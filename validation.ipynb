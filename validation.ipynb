{
 "metadata": {
  "language_info": {
   "codemirror_mode": {
    "name": "ipython",
    "version": 3
   },
   "file_extension": ".py",
   "mimetype": "text/x-python",
   "name": "python",
   "nbconvert_exporter": "python",
   "pygments_lexer": "ipython3",
   "version": "3.9.1-final"
  },
  "orig_nbformat": 2,
  "kernelspec": {
   "name": "Python 3.9.1 64-bit ('env')",
   "display_name": "Python 3.9.1 64-bit ('env')",
   "metadata": {
    "interpreter": {
     "hash": "1a5a8ba0ffddeaa7aeced0ca651749746f439efb68a0689f1e83abe63c93a5d7"
    }
   }
  }
 },
 "nbformat": 4,
 "nbformat_minor": 2,
 "cells": [
  {
   "source": [
    "# pvtools Validation\n",
    "\n",
    "The objective of this notebook if to validate the pvtools lift-over method using database lookups. \n",
    "\n",
    "# Possible issues with pvtools to evaluate\n",
    "\n",
    "1. LiftOver: positions inserted/deleted in one reference version vs. another can alter position relative to start in different references. This is generally adressed with a chain file that defines these areas and allows adjustment. \n",
    "2. +/- strand \n",
    "\n",
    "# Methods\n",
    "\n",
    "This will focus on the accuracy of the positions and alleles reported for pvtools, using data from NCBI and Ensembl to compare database lookups with lifted-over values for positions. \n",
    "Additionally, the accuracy of reported ref and alt alleles will be compared, since these might differ. "
   ],
   "cell_type": "markdown",
   "metadata": {}
  },
  {
   "source": [
    "Data will be stored in an untracked directory called \"valid_data\"\n",
    "The following cell will populate with required resource files. "
   ],
   "cell_type": "markdown",
   "metadata": {}
  },
  {
   "cell_type": "code",
   "execution_count": 1,
   "metadata": {},
   "outputs": [
    {
     "output_type": "stream",
     "name": "stdout",
     "text": [
      "  % Total    % Received % Xferd  Average Speed   Time    Time     Time  Current\n",
      "                                 Dload  Upload   Total   Spent    Left  Speed\n",
      "100  703k  100  703k    0     0  2931k      0 --:--:-- --:--:-- --:--:-- 2931k\n",
      "  % Total    % Received % Xferd  Average Speed   Time    Time     Time  Current\n",
      "                                 Dload  Upload   Total   Spent    Left  Speed\n",
      "100 2216k  100 2216k    0     0  5864k      0 --:--:-- --:--:-- --:--:-- 5849k\n",
      "  % Total    % Received % Xferd  Average Speed   Time    Time     Time  Current\n",
      "                                 Dload  Upload   Total   Spent    Left  Speed\n",
      "100  192k  100  192k    0     0  1375k      0 --:--:-- --:--:-- --:--:-- 1375k\n"
     ]
    }
   ],
   "source": [
    "!mkdir valid_data\n",
    "!curl https://ftp.ncbi.nih.gov/refseq/H_sapiens/RefSeqGene/Aligned2RefSeqGene --output valid_data/NG_ACCESSIONS.txt\n",
    "!curl https://ftp.ncbi.nih.gov/refseq/H_sapiens/RefSeqGene/GCF_000001405.25_refseqgene_alignments.gff3 --output valid_data/NG_ALIGNMENTS_38.gff3\n",
    "!curl https://ftp.ncbi.nih.gov/refseq/H_sapiens/RefSeqGene/gene_RefSeqGene --output valid_data/NM_ACCESSIONS.txt"
   ]
  },
  {
   "source": [
    "## Ensembl Access\n",
    "\n",
    "Next we define a function to collect data from Ensembl based on rsid. "
   ],
   "cell_type": "markdown",
   "metadata": {}
  },
  {
   "cell_type": "code",
   "execution_count": 1,
   "metadata": {},
   "outputs": [],
   "source": [
    "import sys\n",
    "import json\n",
    "\n",
    "import requests\n",
    "\n",
    "import pandas as pd\n",
    "import numpy as np\n",
    "\n",
    "GRCH38_SERVER = 'https://rest.ensembl.org'\n",
    "GRCH37_SERVER = 'https://grch37.rest.ensembl.org'\n",
    "URL_EXT = '/variation/homo_sapiens'\n",
    "HEADERS = { 'Content-Type' : 'application/json', 'Accept' : 'application/json'}\n",
    "\n",
    "def make_request(rsids, server, url_ext, headers):\n",
    "    var_data = []\n",
    "    rsids_formatted = '\",\"'.join(rsids)\n",
    "    r = requests.post(server+url_ext, headers=headers, data=f'{{ \"ids\" : [\"{rsids_formatted}\"] }}')\n",
    "    if not r.ok:\n",
    "        r.raise_for_status()\n",
    "        sys.exit()\n",
    "    decoded = r.json()\n",
    "    for rsid, data in decoded.items():\n",
    "        var_data.append(\n",
    "            {\n",
    "                \"rsid\": rsid,\n",
    "                \"reference\": data[\"mappings\"][0][\"assembly_name\"],\n",
    "                \"pos\": data[\"mappings\"][0][\"start\"],\n",
    "                \"ref_allele\": data[\"mappings\"][0][\"allele_string\"].split(\"/\")[0],\n",
    "                \"alt_allele\": \",\".join(data[\"mappings\"][0][\"allele_string\"].split(\"/\")[1:])\n",
    "            }\n",
    "        )\n",
    "    return var_data"
   ]
  },
  {
   "source": [
    "## Read pvtools output\n",
    "\n",
    "Need to have df defined and get rsids"
   ],
   "cell_type": "markdown",
   "metadata": {}
  },
  {
   "cell_type": "code",
   "execution_count": 147,
   "metadata": {},
   "outputs": [],
   "source": [
    "pvtools_snp_data = pd.read_csv(\"SLCO1B1/SNP_Table.tsv\", delimiter = \"\\t\", na_values = [\".\", \"??\"])\n",
    "pvtools_snp_data = pvtools_snp_data.dropna(axis = 0, subset = [\"rs_ID\"])\n",
    "rsids = pvtools_snp_data.rs_ID.to_numpy()"
   ]
  },
  {
   "source": [
    "## Call Ensembl api to get data from rsids\n",
    "\n",
    "Also convert to df and merge"
   ],
   "cell_type": "markdown",
   "metadata": {}
  },
  {
   "cell_type": "code",
   "execution_count": 148,
   "metadata": {},
   "outputs": [
    {
     "output_type": "execute_result",
     "data": {
      "text/plain": [
       "         rsid  GRCH38_POS GRCH38_REF GRCH38_ALT  GRCH37_POS GRCH37_REF  \\\n",
       "0  rs74064260    21239310          G          C    21392244          G   \n",
       "1  rs56101265    21172782          T          C    21325716          T   \n",
       "2  rs11045819    21176879          C        A,T    21329813          C   \n",
       "3   rs4149085    21239356          T          C    21392290          T   \n",
       "4  rs59113707    21202555          C          G    21355489          C   \n",
       "\n",
       "  GRCH37_ALT  \n",
       "0          C  \n",
       "1          C  \n",
       "2        A,T  \n",
       "3          C  \n",
       "4          G  "
      ],
      "text/html": "<div>\n<style scoped>\n    .dataframe tbody tr th:only-of-type {\n        vertical-align: middle;\n    }\n\n    .dataframe tbody tr th {\n        vertical-align: top;\n    }\n\n    .dataframe thead th {\n        text-align: right;\n    }\n</style>\n<table border=\"1\" class=\"dataframe\">\n  <thead>\n    <tr style=\"text-align: right;\">\n      <th></th>\n      <th>rsid</th>\n      <th>GRCH38_POS</th>\n      <th>GRCH38_REF</th>\n      <th>GRCH38_ALT</th>\n      <th>GRCH37_POS</th>\n      <th>GRCH37_REF</th>\n      <th>GRCH37_ALT</th>\n    </tr>\n  </thead>\n  <tbody>\n    <tr>\n      <th>0</th>\n      <td>rs74064260</td>\n      <td>21239310</td>\n      <td>G</td>\n      <td>C</td>\n      <td>21392244</td>\n      <td>G</td>\n      <td>C</td>\n    </tr>\n    <tr>\n      <th>1</th>\n      <td>rs56101265</td>\n      <td>21172782</td>\n      <td>T</td>\n      <td>C</td>\n      <td>21325716</td>\n      <td>T</td>\n      <td>C</td>\n    </tr>\n    <tr>\n      <th>2</th>\n      <td>rs11045819</td>\n      <td>21176879</td>\n      <td>C</td>\n      <td>A,T</td>\n      <td>21329813</td>\n      <td>C</td>\n      <td>A,T</td>\n    </tr>\n    <tr>\n      <th>3</th>\n      <td>rs4149085</td>\n      <td>21239356</td>\n      <td>T</td>\n      <td>C</td>\n      <td>21392290</td>\n      <td>T</td>\n      <td>C</td>\n    </tr>\n    <tr>\n      <th>4</th>\n      <td>rs59113707</td>\n      <td>21202555</td>\n      <td>C</td>\n      <td>G</td>\n      <td>21355489</td>\n      <td>C</td>\n      <td>G</td>\n    </tr>\n  </tbody>\n</table>\n</div>"
     },
     "metadata": {},
     "execution_count": 148
    }
   ],
   "source": [
    "ens_G38_data = make_request(rsids[rsids != \".\"], GRCH38_SERVER, URL_EXT, HEADERS)\n",
    "ens_G37_data = make_request(rsids[rsids != \".\"], GRCH37_SERVER, URL_EXT, HEADERS)\n",
    "ens_G38_df = pd.DataFrame(ens_G38_data).rename(axis = 1, mapper = {\"pos\": \"GRCH38_POS\", \"ref_allele\": \"GRCH38_REF\", \"alt_allele\": \"GRCH38_ALT\"}).drop(\"reference\", axis = 1)\n",
    "ens_G37_df = pd.DataFrame(ens_G37_data).rename(axis = 1, mapper = {\"pos\": \"GRCH37_POS\", \"ref_allele\": \"GRCH37_REF\", \"alt_allele\": \"GRCH37_ALT\"}).drop(\"reference\", axis = 1)\n",
    "ens_data = ens_G38_df.merge(ens_G37_df, on = \"rsid\")\n",
    "ens_data.head()"
   ]
  },
  {
   "source": [
    "## Subset pvtools and reorganize to work with ensembl output"
   ],
   "cell_type": "markdown",
   "metadata": {}
  },
  {
   "cell_type": "code",
   "execution_count": 149,
   "metadata": {},
   "outputs": [
    {
     "output_type": "execute_result",
     "data": {
      "text/plain": [
       "          rsid  GRCH38_POS  GRCH37_POS REF ALT  Start_Position  ATG_Position  \\\n",
       "1    rs4149015  21130388.0  21283322.0   G   A          4195.0      -11187.0   \n",
       "2  rs397978904  21130465.0  21283399.0   T   G          4272.0      -11110.0   \n",
       "3   rs11835045  21130885.0  21283819.0   T   C          4692.0      -10690.0   \n",
       "5   rs59710386  21131076.0  21284010.0   A   C          4883.0      -10499.0   \n",
       "6  rs139257324  21172734.0  21325668.0   C   T         46541.0       31159.0   \n",
       "\n",
       "  Transcript_Position  \n",
       "1              c.-910  \n",
       "2              c.-833  \n",
       "3              c.-413  \n",
       "5              c.-222  \n",
       "6               c.169  "
      ],
      "text/html": "<div>\n<style scoped>\n    .dataframe tbody tr th:only-of-type {\n        vertical-align: middle;\n    }\n\n    .dataframe tbody tr th {\n        vertical-align: top;\n    }\n\n    .dataframe thead th {\n        text-align: right;\n    }\n</style>\n<table border=\"1\" class=\"dataframe\">\n  <thead>\n    <tr style=\"text-align: right;\">\n      <th></th>\n      <th>rsid</th>\n      <th>GRCH38_POS</th>\n      <th>GRCH37_POS</th>\n      <th>REF</th>\n      <th>ALT</th>\n      <th>Start_Position</th>\n      <th>ATG_Position</th>\n      <th>Transcript_Position</th>\n    </tr>\n  </thead>\n  <tbody>\n    <tr>\n      <th>1</th>\n      <td>rs4149015</td>\n      <td>21130388.0</td>\n      <td>21283322.0</td>\n      <td>G</td>\n      <td>A</td>\n      <td>4195.0</td>\n      <td>-11187.0</td>\n      <td>c.-910</td>\n    </tr>\n    <tr>\n      <th>2</th>\n      <td>rs397978904</td>\n      <td>21130465.0</td>\n      <td>21283399.0</td>\n      <td>T</td>\n      <td>G</td>\n      <td>4272.0</td>\n      <td>-11110.0</td>\n      <td>c.-833</td>\n    </tr>\n    <tr>\n      <th>3</th>\n      <td>rs11835045</td>\n      <td>21130885.0</td>\n      <td>21283819.0</td>\n      <td>T</td>\n      <td>C</td>\n      <td>4692.0</td>\n      <td>-10690.0</td>\n      <td>c.-413</td>\n    </tr>\n    <tr>\n      <th>5</th>\n      <td>rs59710386</td>\n      <td>21131076.0</td>\n      <td>21284010.0</td>\n      <td>A</td>\n      <td>C</td>\n      <td>4883.0</td>\n      <td>-10499.0</td>\n      <td>c.-222</td>\n    </tr>\n    <tr>\n      <th>6</th>\n      <td>rs139257324</td>\n      <td>21172734.0</td>\n      <td>21325668.0</td>\n      <td>C</td>\n      <td>T</td>\n      <td>46541.0</td>\n      <td>31159.0</td>\n      <td>c.169</td>\n    </tr>\n  </tbody>\n</table>\n</div>"
     },
     "metadata": {},
     "execution_count": 149
    }
   ],
   "source": [
    "pvtools_snp_data = pvtools_snp_data[[\"rs_ID\", \"GRCh38_Position\", \"GRCh37_Position\", \"Reference_Allele\", \"Alternative_Allele\", \"Start_Position\", \"ATG_Position\",\"Transcript_Position\"]]\n",
    "pvtools_snp_data.rename(axis = 1, mapper = {\"rs_ID\": \"rsid\", \"GRCh38_Position\": \"GRCH38_POS\", \"GRCh37_Position\": \"GRCH37_POS\", \"Reference_Allele\": \"REF\", \"Alternative_Allele\": \"ALT\"}, inplace = True)\n",
    "pvtools_snp_data.head()"
   ]
  },
  {
   "source": [
    "## Merge pvtools data and Ensembl data"
   ],
   "cell_type": "markdown",
   "metadata": {}
  },
  {
   "cell_type": "code",
   "execution_count": 150,
   "metadata": {},
   "outputs": [
    {
     "output_type": "execute_result",
     "data": {
      "text/plain": [
       "          rsid  GRCH38_POS_x  GRCH37_POS_x REF ALT  Start_Position  \\\n",
       "0    rs4149015    21130388.0    21283322.0   G   A          4195.0   \n",
       "1  rs397978904    21130465.0    21283399.0   T   G          4272.0   \n",
       "2   rs11835045    21130885.0    21283819.0   T   C          4692.0   \n",
       "3   rs59710386    21131076.0    21284010.0   A   C          4883.0   \n",
       "4  rs139257324    21172734.0    21325668.0   C   T         46541.0   \n",
       "\n",
       "   ATG_Position Transcript_Position  GRCH38_POS_y GRCH38_REF GRCH38_ALT  \\\n",
       "0      -11187.0              c.-910      21130388          G      A,C,T   \n",
       "1      -11110.0              c.-833      21130465          T          G   \n",
       "2      -10690.0              c.-413      21130885          T          C   \n",
       "3      -10499.0              c.-222      21131076          A          C   \n",
       "4       31159.0               c.169      21172734          C          T   \n",
       "\n",
       "   GRCH37_POS_y GRCH37_REF GRCH37_ALT  \n",
       "0      21283322          G      A,C,T  \n",
       "1      21283399          T          G  \n",
       "2      21283819          T          C  \n",
       "3      21284010          A          C  \n",
       "4      21325668          C          T  "
      ],
      "text/html": "<div>\n<style scoped>\n    .dataframe tbody tr th:only-of-type {\n        vertical-align: middle;\n    }\n\n    .dataframe tbody tr th {\n        vertical-align: top;\n    }\n\n    .dataframe thead th {\n        text-align: right;\n    }\n</style>\n<table border=\"1\" class=\"dataframe\">\n  <thead>\n    <tr style=\"text-align: right;\">\n      <th></th>\n      <th>rsid</th>\n      <th>GRCH38_POS_x</th>\n      <th>GRCH37_POS_x</th>\n      <th>REF</th>\n      <th>ALT</th>\n      <th>Start_Position</th>\n      <th>ATG_Position</th>\n      <th>Transcript_Position</th>\n      <th>GRCH38_POS_y</th>\n      <th>GRCH38_REF</th>\n      <th>GRCH38_ALT</th>\n      <th>GRCH37_POS_y</th>\n      <th>GRCH37_REF</th>\n      <th>GRCH37_ALT</th>\n    </tr>\n  </thead>\n  <tbody>\n    <tr>\n      <th>0</th>\n      <td>rs4149015</td>\n      <td>21130388.0</td>\n      <td>21283322.0</td>\n      <td>G</td>\n      <td>A</td>\n      <td>4195.0</td>\n      <td>-11187.0</td>\n      <td>c.-910</td>\n      <td>21130388</td>\n      <td>G</td>\n      <td>A,C,T</td>\n      <td>21283322</td>\n      <td>G</td>\n      <td>A,C,T</td>\n    </tr>\n    <tr>\n      <th>1</th>\n      <td>rs397978904</td>\n      <td>21130465.0</td>\n      <td>21283399.0</td>\n      <td>T</td>\n      <td>G</td>\n      <td>4272.0</td>\n      <td>-11110.0</td>\n      <td>c.-833</td>\n      <td>21130465</td>\n      <td>T</td>\n      <td>G</td>\n      <td>21283399</td>\n      <td>T</td>\n      <td>G</td>\n    </tr>\n    <tr>\n      <th>2</th>\n      <td>rs11835045</td>\n      <td>21130885.0</td>\n      <td>21283819.0</td>\n      <td>T</td>\n      <td>C</td>\n      <td>4692.0</td>\n      <td>-10690.0</td>\n      <td>c.-413</td>\n      <td>21130885</td>\n      <td>T</td>\n      <td>C</td>\n      <td>21283819</td>\n      <td>T</td>\n      <td>C</td>\n    </tr>\n    <tr>\n      <th>3</th>\n      <td>rs59710386</td>\n      <td>21131076.0</td>\n      <td>21284010.0</td>\n      <td>A</td>\n      <td>C</td>\n      <td>4883.0</td>\n      <td>-10499.0</td>\n      <td>c.-222</td>\n      <td>21131076</td>\n      <td>A</td>\n      <td>C</td>\n      <td>21284010</td>\n      <td>A</td>\n      <td>C</td>\n    </tr>\n    <tr>\n      <th>4</th>\n      <td>rs139257324</td>\n      <td>21172734.0</td>\n      <td>21325668.0</td>\n      <td>C</td>\n      <td>T</td>\n      <td>46541.0</td>\n      <td>31159.0</td>\n      <td>c.169</td>\n      <td>21172734</td>\n      <td>C</td>\n      <td>T</td>\n      <td>21325668</td>\n      <td>C</td>\n      <td>T</td>\n    </tr>\n  </tbody>\n</table>\n</div>"
     },
     "metadata": {},
     "execution_count": 150
    }
   ],
   "source": [
    "compare_snp_data = pvtools_snp_data.merge(ens_data, on = \"rsid\")\n",
    "compare_snp_data.head()"
   ]
  },
  {
   "source": [
    "## Make comparisons"
   ],
   "cell_type": "markdown",
   "metadata": {}
  },
  {
   "cell_type": "code",
   "execution_count": 151,
   "metadata": {},
   "outputs": [
    {
     "output_type": "execute_result",
     "data": {
      "text/plain": [
       "Empty DataFrame\n",
       "Columns: [rsid, GRCH38_POS_x, GRCH37_POS_x, REF, ALT, Start_Position, ATG_Position, Transcript_Position, GRCH38_POS_y, GRCH38_REF, GRCH38_ALT, GRCH37_POS_y, GRCH37_REF, GRCH37_ALT]\n",
       "Index: []"
      ],
      "text/html": "<div>\n<style scoped>\n    .dataframe tbody tr th:only-of-type {\n        vertical-align: middle;\n    }\n\n    .dataframe tbody tr th {\n        vertical-align: top;\n    }\n\n    .dataframe thead th {\n        text-align: right;\n    }\n</style>\n<table border=\"1\" class=\"dataframe\">\n  <thead>\n    <tr style=\"text-align: right;\">\n      <th></th>\n      <th>rsid</th>\n      <th>GRCH38_POS_x</th>\n      <th>GRCH37_POS_x</th>\n      <th>REF</th>\n      <th>ALT</th>\n      <th>Start_Position</th>\n      <th>ATG_Position</th>\n      <th>Transcript_Position</th>\n      <th>GRCH38_POS_y</th>\n      <th>GRCH38_REF</th>\n      <th>GRCH38_ALT</th>\n      <th>GRCH37_POS_y</th>\n      <th>GRCH37_REF</th>\n      <th>GRCH37_ALT</th>\n    </tr>\n  </thead>\n  <tbody>\n  </tbody>\n</table>\n</div>"
     },
     "metadata": {},
     "execution_count": 151
    }
   ],
   "source": [
    "# Where does GRCh38 position mis-match?\n",
    "\n",
    "compare_snp_data[compare_snp_data[\"GRCH38_POS_y\"] != compare_snp_data[\"GRCH38_POS_x\"]]"
   ]
  },
  {
   "cell_type": "code",
   "execution_count": 152,
   "metadata": {},
   "outputs": [
    {
     "output_type": "execute_result",
     "data": {
      "text/plain": [
       "Empty DataFrame\n",
       "Columns: [rsid, GRCH38_POS_x, GRCH37_POS_x, REF, ALT, Start_Position, ATG_Position, Transcript_Position, GRCH38_POS_y, GRCH38_REF, GRCH38_ALT, GRCH37_POS_y, GRCH37_REF, GRCH37_ALT]\n",
       "Index: []"
      ],
      "text/html": "<div>\n<style scoped>\n    .dataframe tbody tr th:only-of-type {\n        vertical-align: middle;\n    }\n\n    .dataframe tbody tr th {\n        vertical-align: top;\n    }\n\n    .dataframe thead th {\n        text-align: right;\n    }\n</style>\n<table border=\"1\" class=\"dataframe\">\n  <thead>\n    <tr style=\"text-align: right;\">\n      <th></th>\n      <th>rsid</th>\n      <th>GRCH38_POS_x</th>\n      <th>GRCH37_POS_x</th>\n      <th>REF</th>\n      <th>ALT</th>\n      <th>Start_Position</th>\n      <th>ATG_Position</th>\n      <th>Transcript_Position</th>\n      <th>GRCH38_POS_y</th>\n      <th>GRCH38_REF</th>\n      <th>GRCH38_ALT</th>\n      <th>GRCH37_POS_y</th>\n      <th>GRCH37_REF</th>\n      <th>GRCH37_ALT</th>\n    </tr>\n  </thead>\n  <tbody>\n  </tbody>\n</table>\n</div>"
     },
     "metadata": {},
     "execution_count": 152
    }
   ],
   "source": [
    "# Where does GRCh37 position mis-match?\n",
    "\n",
    "compare_snp_data[compare_snp_data[\"GRCH37_POS_y\"] != compare_snp_data[\"GRCH37_POS_x\"]]"
   ]
  },
  {
   "cell_type": "code",
   "execution_count": 153,
   "metadata": {},
   "outputs": [
    {
     "output_type": "execute_result",
     "data": {
      "text/plain": [
       "Empty DataFrame\n",
       "Columns: [rsid, GRCH38_POS_x, GRCH37_POS_x, REF, ALT, Start_Position, ATG_Position, Transcript_Position, GRCH38_POS_y, GRCH38_REF, GRCH38_ALT, GRCH37_POS_y, GRCH37_REF, GRCH37_ALT]\n",
       "Index: []"
      ],
      "text/html": "<div>\n<style scoped>\n    .dataframe tbody tr th:only-of-type {\n        vertical-align: middle;\n    }\n\n    .dataframe tbody tr th {\n        vertical-align: top;\n    }\n\n    .dataframe thead th {\n        text-align: right;\n    }\n</style>\n<table border=\"1\" class=\"dataframe\">\n  <thead>\n    <tr style=\"text-align: right;\">\n      <th></th>\n      <th>rsid</th>\n      <th>GRCH38_POS_x</th>\n      <th>GRCH37_POS_x</th>\n      <th>REF</th>\n      <th>ALT</th>\n      <th>Start_Position</th>\n      <th>ATG_Position</th>\n      <th>Transcript_Position</th>\n      <th>GRCH38_POS_y</th>\n      <th>GRCH38_REF</th>\n      <th>GRCH38_ALT</th>\n      <th>GRCH37_POS_y</th>\n      <th>GRCH37_REF</th>\n      <th>GRCH37_ALT</th>\n    </tr>\n  </thead>\n  <tbody>\n  </tbody>\n</table>\n</div>"
     },
     "metadata": {},
     "execution_count": 153
    }
   ],
   "source": [
    "# Where does ref allele mismatch?\n",
    "\n",
    "compare_snp_data[compare_snp_data[\"REF\"] != compare_snp_data[\"GRCH38_REF\"]]"
   ]
  },
  {
   "cell_type": "code",
   "execution_count": 154,
   "metadata": {},
   "outputs": [
    {
     "output_type": "execute_result",
     "data": {
      "text/plain": [
       "           rsid  GRCH38_POS_x  GRCH37_POS_x REF ALT  Start_Position  \\\n",
       "0     rs4149015    21130388.0    21283322.0   G   A          4195.0   \n",
       "8     rs2306283    21176804.0    21329738.0   A   G         50611.0   \n",
       "11  rs145144129    21176871.0    21329805.0   G   A         50678.0   \n",
       "12   rs11045819    21176879.0    21329813.0   C   A         50686.0   \n",
       "15  rs141467543    21178612.0    21331546.0   A   G         52419.0   \n",
       "21    rs2291076    21179053.0    21331987.0   C   T         52860.0   \n",
       "26   rs55901008    21200595.0    21353529.0   T   C         74402.0   \n",
       "31   rs56387224    21202649.0    21355583.0   A   G         76456.0   \n",
       "33   rs72559748    21205921.0    21358855.0   A   G         79728.0   \n",
       "34   rs74064211    21205988.0    21358922.0   C   T         79795.0   \n",
       "38   rs56199088    21239077.0    21392011.0   A   G        112884.0   \n",
       "\n",
       "    ATG_Position Transcript_Position  GRCH38_POS_y GRCH38_REF GRCH38_ALT  \\\n",
       "0       -11187.0              c.-910      21130388          G      A,C,T   \n",
       "8        35229.0               c.388      21176804          A        G,T   \n",
       "11       35296.0               c.455      21176871          G          C   \n",
       "12       35304.0               c.463      21176879          C        A,T   \n",
       "15       37037.0               c.518      21178612          A        C,G   \n",
       "21       37478.0            c.727+33      21179053          C        A,T   \n",
       "26       59020.0              c.1058      21200595          T        A,C   \n",
       "31       61074.0              c.1294      21202649          A        G,T   \n",
       "33       64346.0              c.1385      21205921          A        C,G   \n",
       "34       64413.0              c.1452      21205988          C        G,T   \n",
       "38       97502.0              c.1964      21239077          A        G,T   \n",
       "\n",
       "    GRCH37_POS_y GRCH37_REF GRCH37_ALT  \n",
       "0       21283322          G      A,C,T  \n",
       "8       21329738          A        G,T  \n",
       "11      21329805          G          C  \n",
       "12      21329813          C        A,T  \n",
       "15      21331546          A        C,G  \n",
       "21      21331987          C        A,T  \n",
       "26      21353529          T        A,C  \n",
       "31      21355583          A        G,T  \n",
       "33      21358855          A        C,G  \n",
       "34      21358922          C        G,T  \n",
       "38      21392011          A        G,T  "
      ],
      "text/html": "<div>\n<style scoped>\n    .dataframe tbody tr th:only-of-type {\n        vertical-align: middle;\n    }\n\n    .dataframe tbody tr th {\n        vertical-align: top;\n    }\n\n    .dataframe thead th {\n        text-align: right;\n    }\n</style>\n<table border=\"1\" class=\"dataframe\">\n  <thead>\n    <tr style=\"text-align: right;\">\n      <th></th>\n      <th>rsid</th>\n      <th>GRCH38_POS_x</th>\n      <th>GRCH37_POS_x</th>\n      <th>REF</th>\n      <th>ALT</th>\n      <th>Start_Position</th>\n      <th>ATG_Position</th>\n      <th>Transcript_Position</th>\n      <th>GRCH38_POS_y</th>\n      <th>GRCH38_REF</th>\n      <th>GRCH38_ALT</th>\n      <th>GRCH37_POS_y</th>\n      <th>GRCH37_REF</th>\n      <th>GRCH37_ALT</th>\n    </tr>\n  </thead>\n  <tbody>\n    <tr>\n      <th>0</th>\n      <td>rs4149015</td>\n      <td>21130388.0</td>\n      <td>21283322.0</td>\n      <td>G</td>\n      <td>A</td>\n      <td>4195.0</td>\n      <td>-11187.0</td>\n      <td>c.-910</td>\n      <td>21130388</td>\n      <td>G</td>\n      <td>A,C,T</td>\n      <td>21283322</td>\n      <td>G</td>\n      <td>A,C,T</td>\n    </tr>\n    <tr>\n      <th>8</th>\n      <td>rs2306283</td>\n      <td>21176804.0</td>\n      <td>21329738.0</td>\n      <td>A</td>\n      <td>G</td>\n      <td>50611.0</td>\n      <td>35229.0</td>\n      <td>c.388</td>\n      <td>21176804</td>\n      <td>A</td>\n      <td>G,T</td>\n      <td>21329738</td>\n      <td>A</td>\n      <td>G,T</td>\n    </tr>\n    <tr>\n      <th>11</th>\n      <td>rs145144129</td>\n      <td>21176871.0</td>\n      <td>21329805.0</td>\n      <td>G</td>\n      <td>A</td>\n      <td>50678.0</td>\n      <td>35296.0</td>\n      <td>c.455</td>\n      <td>21176871</td>\n      <td>G</td>\n      <td>C</td>\n      <td>21329805</td>\n      <td>G</td>\n      <td>C</td>\n    </tr>\n    <tr>\n      <th>12</th>\n      <td>rs11045819</td>\n      <td>21176879.0</td>\n      <td>21329813.0</td>\n      <td>C</td>\n      <td>A</td>\n      <td>50686.0</td>\n      <td>35304.0</td>\n      <td>c.463</td>\n      <td>21176879</td>\n      <td>C</td>\n      <td>A,T</td>\n      <td>21329813</td>\n      <td>C</td>\n      <td>A,T</td>\n    </tr>\n    <tr>\n      <th>15</th>\n      <td>rs141467543</td>\n      <td>21178612.0</td>\n      <td>21331546.0</td>\n      <td>A</td>\n      <td>G</td>\n      <td>52419.0</td>\n      <td>37037.0</td>\n      <td>c.518</td>\n      <td>21178612</td>\n      <td>A</td>\n      <td>C,G</td>\n      <td>21331546</td>\n      <td>A</td>\n      <td>C,G</td>\n    </tr>\n    <tr>\n      <th>21</th>\n      <td>rs2291076</td>\n      <td>21179053.0</td>\n      <td>21331987.0</td>\n      <td>C</td>\n      <td>T</td>\n      <td>52860.0</td>\n      <td>37478.0</td>\n      <td>c.727+33</td>\n      <td>21179053</td>\n      <td>C</td>\n      <td>A,T</td>\n      <td>21331987</td>\n      <td>C</td>\n      <td>A,T</td>\n    </tr>\n    <tr>\n      <th>26</th>\n      <td>rs55901008</td>\n      <td>21200595.0</td>\n      <td>21353529.0</td>\n      <td>T</td>\n      <td>C</td>\n      <td>74402.0</td>\n      <td>59020.0</td>\n      <td>c.1058</td>\n      <td>21200595</td>\n      <td>T</td>\n      <td>A,C</td>\n      <td>21353529</td>\n      <td>T</td>\n      <td>A,C</td>\n    </tr>\n    <tr>\n      <th>31</th>\n      <td>rs56387224</td>\n      <td>21202649.0</td>\n      <td>21355583.0</td>\n      <td>A</td>\n      <td>G</td>\n      <td>76456.0</td>\n      <td>61074.0</td>\n      <td>c.1294</td>\n      <td>21202649</td>\n      <td>A</td>\n      <td>G,T</td>\n      <td>21355583</td>\n      <td>A</td>\n      <td>G,T</td>\n    </tr>\n    <tr>\n      <th>33</th>\n      <td>rs72559748</td>\n      <td>21205921.0</td>\n      <td>21358855.0</td>\n      <td>A</td>\n      <td>G</td>\n      <td>79728.0</td>\n      <td>64346.0</td>\n      <td>c.1385</td>\n      <td>21205921</td>\n      <td>A</td>\n      <td>C,G</td>\n      <td>21358855</td>\n      <td>A</td>\n      <td>C,G</td>\n    </tr>\n    <tr>\n      <th>34</th>\n      <td>rs74064211</td>\n      <td>21205988.0</td>\n      <td>21358922.0</td>\n      <td>C</td>\n      <td>T</td>\n      <td>79795.0</td>\n      <td>64413.0</td>\n      <td>c.1452</td>\n      <td>21205988</td>\n      <td>C</td>\n      <td>G,T</td>\n      <td>21358922</td>\n      <td>C</td>\n      <td>G,T</td>\n    </tr>\n    <tr>\n      <th>38</th>\n      <td>rs56199088</td>\n      <td>21239077.0</td>\n      <td>21392011.0</td>\n      <td>A</td>\n      <td>G</td>\n      <td>112884.0</td>\n      <td>97502.0</td>\n      <td>c.1964</td>\n      <td>21239077</td>\n      <td>A</td>\n      <td>G,T</td>\n      <td>21392011</td>\n      <td>A</td>\n      <td>G,T</td>\n    </tr>\n  </tbody>\n</table>\n</div>"
     },
     "metadata": {},
     "execution_count": 154
    }
   ],
   "source": [
    "# Where does alt allele mis-match?\n",
    "\n",
    "compare_snp_data[compare_snp_data[\"ALT\"] != compare_snp_data[\"GRCH38_ALT\"]]"
   ]
  },
  {
   "source": [
    "## Generate lifted-over data for NT, NG, NM references\n",
    "\n",
    "See scripts folder for generation of chain files\n"
   ],
   "cell_type": "markdown",
   "metadata": {}
  },
  {
   "cell_type": "code",
   "execution_count": 155,
   "metadata": {},
   "outputs": [],
   "source": [
    "with open(\"variants_grch38.bed\", \"w\") as bed_38:\n",
    "    for i, r in compare_snp_data.iterrows():\n",
    "        bed_38.write(f\"chr12\\t{r['GRCH38_POS_y'] - 1}\\t{r['GRCH38_POS_y']}\\t{r['rsid']}\\n\")"
   ]
  },
  {
   "cell_type": "code",
   "execution_count": 156,
   "metadata": {},
   "outputs": [
    {
     "output_type": "stream",
     "name": "stdout",
     "text": [
      "Reading liftover chains\nMapping coordinates\n"
     ]
    }
   ],
   "source": [
    "!scripts/ucsc_tools/liftOver variants_grch38.bed scripts/chr12.fa-NG_011745_1.fa.chain variants_NG_011745_1.bed variants_NG_011745_1.failed.txt"
   ]
  },
  {
   "cell_type": "code",
   "execution_count": 157,
   "metadata": {},
   "outputs": [
    {
     "output_type": "stream",
     "name": "stdout",
     "text": [
      "Reading liftover chains\nMapping coordinates\n"
     ]
    }
   ],
   "source": [
    "!scripts/ucsc_tools/liftOver variants_grch38.bed scripts/chr12.fa-NM_006446_5.fa.chain variants_NM_006446_5.bed variants_NM_006446_5.failed.bed"
   ]
  },
  {
   "cell_type": "code",
   "execution_count": 162,
   "metadata": {},
   "outputs": [],
   "source": [
    "with open(\"variants_NG_011745_1.bed\", \"r\") as ng_in:\n",
    "    ng_vars = [l.strip().split(\"\\t\") for l in ng_in.readlines()]\n",
    "with open(\"variants_NM_006446_5.bed\", \"r\") as nm_in:\n",
    "    nm_vars = [l.strip().split(\"\\t\") for l in nm_in.readlines()]\n",
    "ng = [{\"rsid\": i[3], \"NG_position\": int(i[2])} for i in ng_vars]\n",
    "nm = [{\"rsid\": i[3], \"NM_position\": int(i[2]) - 104} for i in nm_vars]\n",
    "ng_df = pd.DataFrame(ng)\n",
    "nm_df = pd.DataFrame(nm)\n",
    "n_df = ng_df.merge(nm_df, on = \"rsid\")"
   ]
  },
  {
   "cell_type": "code",
   "execution_count": 163,
   "metadata": {},
   "outputs": [],
   "source": [
    "compare_snp_data = compare_snp_data.merge(n_df, on = \"rsid\")"
   ]
  },
  {
   "cell_type": "code",
   "execution_count": 1,
   "metadata": {},
   "outputs": [
    {
     "output_type": "error",
     "ename": "NameError",
     "evalue": "name 'compare_snp_data' is not defined",
     "traceback": [
      "\u001b[0;31m---------------------------------------------------------------------------\u001b[0m",
      "\u001b[0;31mNameError\u001b[0m                                 Traceback (most recent call last)",
      "\u001b[0;32m<ipython-input-1-9b3c09c07f1c>\u001b[0m in \u001b[0;36m<module>\u001b[0;34m\u001b[0m\n\u001b[0;32m----> 1\u001b[0;31m \u001b[0mcompare_snp_data\u001b[0m\u001b[0;34m[\u001b[0m\u001b[0mcompare_snp_data\u001b[0m\u001b[0;34m[\u001b[0m\u001b[0;34m\"Start_Position\"\u001b[0m\u001b[0;34m]\u001b[0m \u001b[0;34m!=\u001b[0m \u001b[0mcompare_snp_data\u001b[0m\u001b[0;34m[\u001b[0m\u001b[0;34m\"NG_position\"\u001b[0m\u001b[0;34m]\u001b[0m\u001b[0;34m]\u001b[0m\u001b[0;34m\u001b[0m\u001b[0;34m\u001b[0m\u001b[0m\n\u001b[0m",
      "\u001b[0;31mNameError\u001b[0m: name 'compare_snp_data' is not defined"
     ]
    }
   ],
   "source": [
    "compare_snp_data[compare_snp_data[\"Start_Position\"] != compare_snp_data[\"NG_position\"]]"
   ]
  },
  {
   "cell_type": "code",
   "execution_count": 165,
   "metadata": {},
   "outputs": [
    {
     "output_type": "execute_result",
     "data": {
      "text/plain": [
       "            rsid  GRCH38_POS_x  GRCH37_POS_x REF ALT  Start_Position  \\\n",
       "0    rs139257324    21172734.0    21325668.0   C   T         46541.0   \n",
       "1    rs373327528    21172776.0    21325710.0   G   A         46583.0   \n",
       "2     rs56101265    21172782.0    21325716.0   T   C         46589.0   \n",
       "3     rs56061388    21174595.0    21327529.0   T   C         48402.0   \n",
       "4      rs2306283    21176804.0    21329738.0   A   G         50611.0   \n",
       "5     rs11045818    21176827.0    21329761.0   G   A         50634.0   \n",
       "6      rs2306282    21176868.0    21329802.0   A   G         50675.0   \n",
       "7    rs145144129    21176871.0    21329805.0   G   A         50678.0   \n",
       "8     rs11045819    21176879.0    21329813.0   C   A         50686.0   \n",
       "9     rs72559745    21176883.0    21329817.0   A   G         50690.0   \n",
       "10   rs141467543    21178612.0    21331546.0   A   G         52419.0   \n",
       "11     rs4149056    21178615.0    21331549.0   T   C         52422.0   \n",
       "12     rs4149057    21178665.0    21331599.0   T   C         52472.0   \n",
       "13    rs72559746    21178672.0    21331606.0   T   G         52479.0   \n",
       "14     rs2291075    21178691.0    21331625.0   C   T         52498.0   \n",
       "15    rs79135870    21178957.0    21331891.0   A   G         52764.0   \n",
       "16    rs11045852    21196951.0    21349885.0   A   G         70758.0   \n",
       "17   rs183501729    21196975.0    21349909.0   C   T         70782.0   \n",
       "18    rs11045853    21196976.0    21349910.0   G   A         70783.0   \n",
       "19    rs11045854    21197100.0    21350034.0   G   A         70907.0   \n",
       "20    rs55901008    21200595.0    21353529.0   T   C         74402.0   \n",
       "21    rs57040246    21200623.0    21353557.0   C   T         74430.0   \n",
       "22  rs1228465562    21202553.0    21355487.0   T   G         76360.0   \n",
       "23    rs59113707    21202555.0    21355489.0   C   G         76362.0   \n",
       "24    rs11045859    21202603.0    21355537.0   G   A         76410.0   \n",
       "25    rs56387224    21202649.0    21355583.0   A   G         76456.0   \n",
       "26   rs142965323    21202664.0    21355598.0   G   A         76471.0   \n",
       "27    rs72559748    21205921.0    21358855.0   A   G         79728.0   \n",
       "28    rs74064211    21205988.0    21358922.0   C   T         79795.0   \n",
       "29    rs59502379    21205999.0    21358933.0   G   C         79806.0   \n",
       "30    rs74064213    21206031.0    21358965.0   A   G         79838.0   \n",
       "31    rs34671512    21239042.0    21391976.0   A   C        112849.0   \n",
       "32    rs56199088    21239077.0    21392011.0   A   G        112884.0   \n",
       "33    rs55737008    21239113.0    21392047.0   A   G        112920.0   \n",
       "34   rs200995543    21239145.0    21392079.0   C   T        112952.0   \n",
       "35   rs140790673    21239158.0    21392092.0   C   T        112965.0   \n",
       "36    rs74064260    21239310.0    21392244.0   G   C        113117.0   \n",
       "37     rs4149085    21239356.0    21392290.0   T   C        113163.0   \n",
       "38     rs4149087    21239628.0    21392562.0   T   G        113435.0   \n",
       "39     rs4149088    21239652.0    21392586.0   A   G        113459.0   \n",
       "\n",
       "    ATG_Position Transcript_Position  GRCH38_POS_y GRCH38_REF GRCH38_ALT  \\\n",
       "0        31159.0               c.169      21172734          C          T   \n",
       "1        31201.0               c.211      21172776          G          A   \n",
       "2        31207.0               c.217      21172782          T          C   \n",
       "3        33020.0               c.245      21174595          T          C   \n",
       "4        35229.0               c.388      21176804          A        G,T   \n",
       "5        35252.0               c.411      21176827          G          A   \n",
       "6        35293.0               c.452      21176868          A          G   \n",
       "7        35296.0               c.455      21176871          G          C   \n",
       "8        35304.0               c.463      21176879          C        A,T   \n",
       "9        35308.0               c.467      21176883          A          G   \n",
       "10       37037.0               c.518      21178612          A        C,G   \n",
       "11       37040.0               c.521      21178615          T          C   \n",
       "12       37090.0               c.571      21178665          T          C   \n",
       "13       37097.0               c.578      21178672          T          G   \n",
       "14       37116.0               c.597      21178691          C          T   \n",
       "15       37382.0               c.664      21178957          A          G   \n",
       "16       55376.0               c.733      21196951          A          G   \n",
       "17       55400.0               c.757      21196975          C          T   \n",
       "18       55401.0               c.758      21196976          G          A   \n",
       "19       55525.0               c.882      21197100          G          A   \n",
       "20       59020.0              c.1058      21200595          T        A,C   \n",
       "21       59048.0              c.1086      21200623          C          T   \n",
       "22       60978.0              c.1198      21202553          T          G   \n",
       "23       60980.0              c.1200      21202555          C          G   \n",
       "24       61028.0              c.1248      21202603          G          A   \n",
       "25       61074.0              c.1294      21202649          A        G,T   \n",
       "26       61089.0              c.1309      21202664          G          A   \n",
       "27       64346.0              c.1385      21205921          A        C,G   \n",
       "28       64413.0              c.1452      21205988          C        G,T   \n",
       "29       64424.0              c.1463      21205999          G          C   \n",
       "30       64456.0              c.1495      21206031          A          G   \n",
       "31       97467.0              c.1929      21239042          A          C   \n",
       "32       97502.0              c.1964      21239077          A        G,T   \n",
       "33       97538.0              c.2000      21239113          A          G   \n",
       "34       97570.0              c.2032      21239145          C          T   \n",
       "35       97583.0              c.2045      21239158          C          T   \n",
       "36       97735.0              c.*121      21239310          G          C   \n",
       "37       97781.0              c.*167      21239356          T          C   \n",
       "38       98053.0              c.*439      21239628          T          G   \n",
       "39       98077.0              c.*463      21239652          A          G   \n",
       "\n",
       "    GRCH37_POS_y GRCH37_REF GRCH37_ALT  NG_position_x  NM_position_x  \\\n",
       "0       21325668          C          T          46541            273   \n",
       "1       21325710          G          A          46583            315   \n",
       "2       21325716          T          C          46589            321   \n",
       "3       21327529          T          C          48402            349   \n",
       "4       21329738          A        G,T          50611            492   \n",
       "5       21329761          G          A          50634            515   \n",
       "6       21329802          A          G          50675            556   \n",
       "7       21329805          G          C          50678            559   \n",
       "8       21329813          C        A,T          50686            567   \n",
       "9       21329817          A          G          50690            571   \n",
       "10      21331546          A        C,G          52419            622   \n",
       "11      21331549          T          C          52422            625   \n",
       "12      21331599          T          C          52472            675   \n",
       "13      21331606          T          G          52479            682   \n",
       "14      21331625          C          T          52498            701   \n",
       "15      21331891          A          G          52764            768   \n",
       "16      21349885          A          G          70758            837   \n",
       "17      21349909          C          T          70782            861   \n",
       "18      21349910          G          A          70783            862   \n",
       "19      21350034          G          A          70907            986   \n",
       "20      21353529          T        A,C          74402           1162   \n",
       "21      21353557          C          T          74430           1190   \n",
       "22      21355487          T          G          76360           1302   \n",
       "23      21355489          C          G          76362           1304   \n",
       "24      21355537          G          A          76410           1352   \n",
       "25      21355583          A        G,T          76456           1398   \n",
       "26      21355598          G          A          76471           1413   \n",
       "27      21358855          A        C,G          79728           1489   \n",
       "28      21358922          C        G,T          79795           1556   \n",
       "29      21358933          G          C          79806           1567   \n",
       "30      21358965          A          G          79838           1599   \n",
       "31      21391976          A          C         112849           2033   \n",
       "32      21392011          A        G,T         112884           2068   \n",
       "33      21392047          A          G         112920           2104   \n",
       "34      21392079          C          T         112952           2136   \n",
       "35      21392092          C          T         112965           2149   \n",
       "36      21392244          G          C         113117           2301   \n",
       "37      21392290          T          C         113163           2347   \n",
       "38      21392562          T          G         113435           2619   \n",
       "39      21392586          A          G         113459           2643   \n",
       "\n",
       "    NG_position_y  NM_position_y  \n",
       "0           46541            169  \n",
       "1           46583            211  \n",
       "2           46589            217  \n",
       "3           48402            245  \n",
       "4           50611            388  \n",
       "5           50634            411  \n",
       "6           50675            452  \n",
       "7           50678            455  \n",
       "8           50686            463  \n",
       "9           50690            467  \n",
       "10          52419            518  \n",
       "11          52422            521  \n",
       "12          52472            571  \n",
       "13          52479            578  \n",
       "14          52498            597  \n",
       "15          52764            664  \n",
       "16          70758            733  \n",
       "17          70782            757  \n",
       "18          70783            758  \n",
       "19          70907            882  \n",
       "20          74402           1058  \n",
       "21          74430           1086  \n",
       "22          76360           1198  \n",
       "23          76362           1200  \n",
       "24          76410           1248  \n",
       "25          76456           1294  \n",
       "26          76471           1309  \n",
       "27          79728           1385  \n",
       "28          79795           1452  \n",
       "29          79806           1463  \n",
       "30          79838           1495  \n",
       "31         112849           1929  \n",
       "32         112884           1964  \n",
       "33         112920           2000  \n",
       "34         112952           2032  \n",
       "35         112965           2045  \n",
       "36         113117           2197  \n",
       "37         113163           2243  \n",
       "38         113435           2515  \n",
       "39         113459           2539  "
      ],
      "text/html": "<div>\n<style scoped>\n    .dataframe tbody tr th:only-of-type {\n        vertical-align: middle;\n    }\n\n    .dataframe tbody tr th {\n        vertical-align: top;\n    }\n\n    .dataframe thead th {\n        text-align: right;\n    }\n</style>\n<table border=\"1\" class=\"dataframe\">\n  <thead>\n    <tr style=\"text-align: right;\">\n      <th></th>\n      <th>rsid</th>\n      <th>GRCH38_POS_x</th>\n      <th>GRCH37_POS_x</th>\n      <th>REF</th>\n      <th>ALT</th>\n      <th>Start_Position</th>\n      <th>ATG_Position</th>\n      <th>Transcript_Position</th>\n      <th>GRCH38_POS_y</th>\n      <th>GRCH38_REF</th>\n      <th>GRCH38_ALT</th>\n      <th>GRCH37_POS_y</th>\n      <th>GRCH37_REF</th>\n      <th>GRCH37_ALT</th>\n      <th>NG_position_x</th>\n      <th>NM_position_x</th>\n      <th>NG_position_y</th>\n      <th>NM_position_y</th>\n    </tr>\n  </thead>\n  <tbody>\n    <tr>\n      <th>0</th>\n      <td>rs139257324</td>\n      <td>21172734.0</td>\n      <td>21325668.0</td>\n      <td>C</td>\n      <td>T</td>\n      <td>46541.0</td>\n      <td>31159.0</td>\n      <td>c.169</td>\n      <td>21172734</td>\n      <td>C</td>\n      <td>T</td>\n      <td>21325668</td>\n      <td>C</td>\n      <td>T</td>\n      <td>46541</td>\n      <td>273</td>\n      <td>46541</td>\n      <td>169</td>\n    </tr>\n    <tr>\n      <th>1</th>\n      <td>rs373327528</td>\n      <td>21172776.0</td>\n      <td>21325710.0</td>\n      <td>G</td>\n      <td>A</td>\n      <td>46583.0</td>\n      <td>31201.0</td>\n      <td>c.211</td>\n      <td>21172776</td>\n      <td>G</td>\n      <td>A</td>\n      <td>21325710</td>\n      <td>G</td>\n      <td>A</td>\n      <td>46583</td>\n      <td>315</td>\n      <td>46583</td>\n      <td>211</td>\n    </tr>\n    <tr>\n      <th>2</th>\n      <td>rs56101265</td>\n      <td>21172782.0</td>\n      <td>21325716.0</td>\n      <td>T</td>\n      <td>C</td>\n      <td>46589.0</td>\n      <td>31207.0</td>\n      <td>c.217</td>\n      <td>21172782</td>\n      <td>T</td>\n      <td>C</td>\n      <td>21325716</td>\n      <td>T</td>\n      <td>C</td>\n      <td>46589</td>\n      <td>321</td>\n      <td>46589</td>\n      <td>217</td>\n    </tr>\n    <tr>\n      <th>3</th>\n      <td>rs56061388</td>\n      <td>21174595.0</td>\n      <td>21327529.0</td>\n      <td>T</td>\n      <td>C</td>\n      <td>48402.0</td>\n      <td>33020.0</td>\n      <td>c.245</td>\n      <td>21174595</td>\n      <td>T</td>\n      <td>C</td>\n      <td>21327529</td>\n      <td>T</td>\n      <td>C</td>\n      <td>48402</td>\n      <td>349</td>\n      <td>48402</td>\n      <td>245</td>\n    </tr>\n    <tr>\n      <th>4</th>\n      <td>rs2306283</td>\n      <td>21176804.0</td>\n      <td>21329738.0</td>\n      <td>A</td>\n      <td>G</td>\n      <td>50611.0</td>\n      <td>35229.0</td>\n      <td>c.388</td>\n      <td>21176804</td>\n      <td>A</td>\n      <td>G,T</td>\n      <td>21329738</td>\n      <td>A</td>\n      <td>G,T</td>\n      <td>50611</td>\n      <td>492</td>\n      <td>50611</td>\n      <td>388</td>\n    </tr>\n    <tr>\n      <th>5</th>\n      <td>rs11045818</td>\n      <td>21176827.0</td>\n      <td>21329761.0</td>\n      <td>G</td>\n      <td>A</td>\n      <td>50634.0</td>\n      <td>35252.0</td>\n      <td>c.411</td>\n      <td>21176827</td>\n      <td>G</td>\n      <td>A</td>\n      <td>21329761</td>\n      <td>G</td>\n      <td>A</td>\n      <td>50634</td>\n      <td>515</td>\n      <td>50634</td>\n      <td>411</td>\n    </tr>\n    <tr>\n      <th>6</th>\n      <td>rs2306282</td>\n      <td>21176868.0</td>\n      <td>21329802.0</td>\n      <td>A</td>\n      <td>G</td>\n      <td>50675.0</td>\n      <td>35293.0</td>\n      <td>c.452</td>\n      <td>21176868</td>\n      <td>A</td>\n      <td>G</td>\n      <td>21329802</td>\n      <td>A</td>\n      <td>G</td>\n      <td>50675</td>\n      <td>556</td>\n      <td>50675</td>\n      <td>452</td>\n    </tr>\n    <tr>\n      <th>7</th>\n      <td>rs145144129</td>\n      <td>21176871.0</td>\n      <td>21329805.0</td>\n      <td>G</td>\n      <td>A</td>\n      <td>50678.0</td>\n      <td>35296.0</td>\n      <td>c.455</td>\n      <td>21176871</td>\n      <td>G</td>\n      <td>C</td>\n      <td>21329805</td>\n      <td>G</td>\n      <td>C</td>\n      <td>50678</td>\n      <td>559</td>\n      <td>50678</td>\n      <td>455</td>\n    </tr>\n    <tr>\n      <th>8</th>\n      <td>rs11045819</td>\n      <td>21176879.0</td>\n      <td>21329813.0</td>\n      <td>C</td>\n      <td>A</td>\n      <td>50686.0</td>\n      <td>35304.0</td>\n      <td>c.463</td>\n      <td>21176879</td>\n      <td>C</td>\n      <td>A,T</td>\n      <td>21329813</td>\n      <td>C</td>\n      <td>A,T</td>\n      <td>50686</td>\n      <td>567</td>\n      <td>50686</td>\n      <td>463</td>\n    </tr>\n    <tr>\n      <th>9</th>\n      <td>rs72559745</td>\n      <td>21176883.0</td>\n      <td>21329817.0</td>\n      <td>A</td>\n      <td>G</td>\n      <td>50690.0</td>\n      <td>35308.0</td>\n      <td>c.467</td>\n      <td>21176883</td>\n      <td>A</td>\n      <td>G</td>\n      <td>21329817</td>\n      <td>A</td>\n      <td>G</td>\n      <td>50690</td>\n      <td>571</td>\n      <td>50690</td>\n      <td>467</td>\n    </tr>\n    <tr>\n      <th>10</th>\n      <td>rs141467543</td>\n      <td>21178612.0</td>\n      <td>21331546.0</td>\n      <td>A</td>\n      <td>G</td>\n      <td>52419.0</td>\n      <td>37037.0</td>\n      <td>c.518</td>\n      <td>21178612</td>\n      <td>A</td>\n      <td>C,G</td>\n      <td>21331546</td>\n      <td>A</td>\n      <td>C,G</td>\n      <td>52419</td>\n      <td>622</td>\n      <td>52419</td>\n      <td>518</td>\n    </tr>\n    <tr>\n      <th>11</th>\n      <td>rs4149056</td>\n      <td>21178615.0</td>\n      <td>21331549.0</td>\n      <td>T</td>\n      <td>C</td>\n      <td>52422.0</td>\n      <td>37040.0</td>\n      <td>c.521</td>\n      <td>21178615</td>\n      <td>T</td>\n      <td>C</td>\n      <td>21331549</td>\n      <td>T</td>\n      <td>C</td>\n      <td>52422</td>\n      <td>625</td>\n      <td>52422</td>\n      <td>521</td>\n    </tr>\n    <tr>\n      <th>12</th>\n      <td>rs4149057</td>\n      <td>21178665.0</td>\n      <td>21331599.0</td>\n      <td>T</td>\n      <td>C</td>\n      <td>52472.0</td>\n      <td>37090.0</td>\n      <td>c.571</td>\n      <td>21178665</td>\n      <td>T</td>\n      <td>C</td>\n      <td>21331599</td>\n      <td>T</td>\n      <td>C</td>\n      <td>52472</td>\n      <td>675</td>\n      <td>52472</td>\n      <td>571</td>\n    </tr>\n    <tr>\n      <th>13</th>\n      <td>rs72559746</td>\n      <td>21178672.0</td>\n      <td>21331606.0</td>\n      <td>T</td>\n      <td>G</td>\n      <td>52479.0</td>\n      <td>37097.0</td>\n      <td>c.578</td>\n      <td>21178672</td>\n      <td>T</td>\n      <td>G</td>\n      <td>21331606</td>\n      <td>T</td>\n      <td>G</td>\n      <td>52479</td>\n      <td>682</td>\n      <td>52479</td>\n      <td>578</td>\n    </tr>\n    <tr>\n      <th>14</th>\n      <td>rs2291075</td>\n      <td>21178691.0</td>\n      <td>21331625.0</td>\n      <td>C</td>\n      <td>T</td>\n      <td>52498.0</td>\n      <td>37116.0</td>\n      <td>c.597</td>\n      <td>21178691</td>\n      <td>C</td>\n      <td>T</td>\n      <td>21331625</td>\n      <td>C</td>\n      <td>T</td>\n      <td>52498</td>\n      <td>701</td>\n      <td>52498</td>\n      <td>597</td>\n    </tr>\n    <tr>\n      <th>15</th>\n      <td>rs79135870</td>\n      <td>21178957.0</td>\n      <td>21331891.0</td>\n      <td>A</td>\n      <td>G</td>\n      <td>52764.0</td>\n      <td>37382.0</td>\n      <td>c.664</td>\n      <td>21178957</td>\n      <td>A</td>\n      <td>G</td>\n      <td>21331891</td>\n      <td>A</td>\n      <td>G</td>\n      <td>52764</td>\n      <td>768</td>\n      <td>52764</td>\n      <td>664</td>\n    </tr>\n    <tr>\n      <th>16</th>\n      <td>rs11045852</td>\n      <td>21196951.0</td>\n      <td>21349885.0</td>\n      <td>A</td>\n      <td>G</td>\n      <td>70758.0</td>\n      <td>55376.0</td>\n      <td>c.733</td>\n      <td>21196951</td>\n      <td>A</td>\n      <td>G</td>\n      <td>21349885</td>\n      <td>A</td>\n      <td>G</td>\n      <td>70758</td>\n      <td>837</td>\n      <td>70758</td>\n      <td>733</td>\n    </tr>\n    <tr>\n      <th>17</th>\n      <td>rs183501729</td>\n      <td>21196975.0</td>\n      <td>21349909.0</td>\n      <td>C</td>\n      <td>T</td>\n      <td>70782.0</td>\n      <td>55400.0</td>\n      <td>c.757</td>\n      <td>21196975</td>\n      <td>C</td>\n      <td>T</td>\n      <td>21349909</td>\n      <td>C</td>\n      <td>T</td>\n      <td>70782</td>\n      <td>861</td>\n      <td>70782</td>\n      <td>757</td>\n    </tr>\n    <tr>\n      <th>18</th>\n      <td>rs11045853</td>\n      <td>21196976.0</td>\n      <td>21349910.0</td>\n      <td>G</td>\n      <td>A</td>\n      <td>70783.0</td>\n      <td>55401.0</td>\n      <td>c.758</td>\n      <td>21196976</td>\n      <td>G</td>\n      <td>A</td>\n      <td>21349910</td>\n      <td>G</td>\n      <td>A</td>\n      <td>70783</td>\n      <td>862</td>\n      <td>70783</td>\n      <td>758</td>\n    </tr>\n    <tr>\n      <th>19</th>\n      <td>rs11045854</td>\n      <td>21197100.0</td>\n      <td>21350034.0</td>\n      <td>G</td>\n      <td>A</td>\n      <td>70907.0</td>\n      <td>55525.0</td>\n      <td>c.882</td>\n      <td>21197100</td>\n      <td>G</td>\n      <td>A</td>\n      <td>21350034</td>\n      <td>G</td>\n      <td>A</td>\n      <td>70907</td>\n      <td>986</td>\n      <td>70907</td>\n      <td>882</td>\n    </tr>\n    <tr>\n      <th>20</th>\n      <td>rs55901008</td>\n      <td>21200595.0</td>\n      <td>21353529.0</td>\n      <td>T</td>\n      <td>C</td>\n      <td>74402.0</td>\n      <td>59020.0</td>\n      <td>c.1058</td>\n      <td>21200595</td>\n      <td>T</td>\n      <td>A,C</td>\n      <td>21353529</td>\n      <td>T</td>\n      <td>A,C</td>\n      <td>74402</td>\n      <td>1162</td>\n      <td>74402</td>\n      <td>1058</td>\n    </tr>\n    <tr>\n      <th>21</th>\n      <td>rs57040246</td>\n      <td>21200623.0</td>\n      <td>21353557.0</td>\n      <td>C</td>\n      <td>T</td>\n      <td>74430.0</td>\n      <td>59048.0</td>\n      <td>c.1086</td>\n      <td>21200623</td>\n      <td>C</td>\n      <td>T</td>\n      <td>21353557</td>\n      <td>C</td>\n      <td>T</td>\n      <td>74430</td>\n      <td>1190</td>\n      <td>74430</td>\n      <td>1086</td>\n    </tr>\n    <tr>\n      <th>22</th>\n      <td>rs1228465562</td>\n      <td>21202553.0</td>\n      <td>21355487.0</td>\n      <td>T</td>\n      <td>G</td>\n      <td>76360.0</td>\n      <td>60978.0</td>\n      <td>c.1198</td>\n      <td>21202553</td>\n      <td>T</td>\n      <td>G</td>\n      <td>21355487</td>\n      <td>T</td>\n      <td>G</td>\n      <td>76360</td>\n      <td>1302</td>\n      <td>76360</td>\n      <td>1198</td>\n    </tr>\n    <tr>\n      <th>23</th>\n      <td>rs59113707</td>\n      <td>21202555.0</td>\n      <td>21355489.0</td>\n      <td>C</td>\n      <td>G</td>\n      <td>76362.0</td>\n      <td>60980.0</td>\n      <td>c.1200</td>\n      <td>21202555</td>\n      <td>C</td>\n      <td>G</td>\n      <td>21355489</td>\n      <td>C</td>\n      <td>G</td>\n      <td>76362</td>\n      <td>1304</td>\n      <td>76362</td>\n      <td>1200</td>\n    </tr>\n    <tr>\n      <th>24</th>\n      <td>rs11045859</td>\n      <td>21202603.0</td>\n      <td>21355537.0</td>\n      <td>G</td>\n      <td>A</td>\n      <td>76410.0</td>\n      <td>61028.0</td>\n      <td>c.1248</td>\n      <td>21202603</td>\n      <td>G</td>\n      <td>A</td>\n      <td>21355537</td>\n      <td>G</td>\n      <td>A</td>\n      <td>76410</td>\n      <td>1352</td>\n      <td>76410</td>\n      <td>1248</td>\n    </tr>\n    <tr>\n      <th>25</th>\n      <td>rs56387224</td>\n      <td>21202649.0</td>\n      <td>21355583.0</td>\n      <td>A</td>\n      <td>G</td>\n      <td>76456.0</td>\n      <td>61074.0</td>\n      <td>c.1294</td>\n      <td>21202649</td>\n      <td>A</td>\n      <td>G,T</td>\n      <td>21355583</td>\n      <td>A</td>\n      <td>G,T</td>\n      <td>76456</td>\n      <td>1398</td>\n      <td>76456</td>\n      <td>1294</td>\n    </tr>\n    <tr>\n      <th>26</th>\n      <td>rs142965323</td>\n      <td>21202664.0</td>\n      <td>21355598.0</td>\n      <td>G</td>\n      <td>A</td>\n      <td>76471.0</td>\n      <td>61089.0</td>\n      <td>c.1309</td>\n      <td>21202664</td>\n      <td>G</td>\n      <td>A</td>\n      <td>21355598</td>\n      <td>G</td>\n      <td>A</td>\n      <td>76471</td>\n      <td>1413</td>\n      <td>76471</td>\n      <td>1309</td>\n    </tr>\n    <tr>\n      <th>27</th>\n      <td>rs72559748</td>\n      <td>21205921.0</td>\n      <td>21358855.0</td>\n      <td>A</td>\n      <td>G</td>\n      <td>79728.0</td>\n      <td>64346.0</td>\n      <td>c.1385</td>\n      <td>21205921</td>\n      <td>A</td>\n      <td>C,G</td>\n      <td>21358855</td>\n      <td>A</td>\n      <td>C,G</td>\n      <td>79728</td>\n      <td>1489</td>\n      <td>79728</td>\n      <td>1385</td>\n    </tr>\n    <tr>\n      <th>28</th>\n      <td>rs74064211</td>\n      <td>21205988.0</td>\n      <td>21358922.0</td>\n      <td>C</td>\n      <td>T</td>\n      <td>79795.0</td>\n      <td>64413.0</td>\n      <td>c.1452</td>\n      <td>21205988</td>\n      <td>C</td>\n      <td>G,T</td>\n      <td>21358922</td>\n      <td>C</td>\n      <td>G,T</td>\n      <td>79795</td>\n      <td>1556</td>\n      <td>79795</td>\n      <td>1452</td>\n    </tr>\n    <tr>\n      <th>29</th>\n      <td>rs59502379</td>\n      <td>21205999.0</td>\n      <td>21358933.0</td>\n      <td>G</td>\n      <td>C</td>\n      <td>79806.0</td>\n      <td>64424.0</td>\n      <td>c.1463</td>\n      <td>21205999</td>\n      <td>G</td>\n      <td>C</td>\n      <td>21358933</td>\n      <td>G</td>\n      <td>C</td>\n      <td>79806</td>\n      <td>1567</td>\n      <td>79806</td>\n      <td>1463</td>\n    </tr>\n    <tr>\n      <th>30</th>\n      <td>rs74064213</td>\n      <td>21206031.0</td>\n      <td>21358965.0</td>\n      <td>A</td>\n      <td>G</td>\n      <td>79838.0</td>\n      <td>64456.0</td>\n      <td>c.1495</td>\n      <td>21206031</td>\n      <td>A</td>\n      <td>G</td>\n      <td>21358965</td>\n      <td>A</td>\n      <td>G</td>\n      <td>79838</td>\n      <td>1599</td>\n      <td>79838</td>\n      <td>1495</td>\n    </tr>\n    <tr>\n      <th>31</th>\n      <td>rs34671512</td>\n      <td>21239042.0</td>\n      <td>21391976.0</td>\n      <td>A</td>\n      <td>C</td>\n      <td>112849.0</td>\n      <td>97467.0</td>\n      <td>c.1929</td>\n      <td>21239042</td>\n      <td>A</td>\n      <td>C</td>\n      <td>21391976</td>\n      <td>A</td>\n      <td>C</td>\n      <td>112849</td>\n      <td>2033</td>\n      <td>112849</td>\n      <td>1929</td>\n    </tr>\n    <tr>\n      <th>32</th>\n      <td>rs56199088</td>\n      <td>21239077.0</td>\n      <td>21392011.0</td>\n      <td>A</td>\n      <td>G</td>\n      <td>112884.0</td>\n      <td>97502.0</td>\n      <td>c.1964</td>\n      <td>21239077</td>\n      <td>A</td>\n      <td>G,T</td>\n      <td>21392011</td>\n      <td>A</td>\n      <td>G,T</td>\n      <td>112884</td>\n      <td>2068</td>\n      <td>112884</td>\n      <td>1964</td>\n    </tr>\n    <tr>\n      <th>33</th>\n      <td>rs55737008</td>\n      <td>21239113.0</td>\n      <td>21392047.0</td>\n      <td>A</td>\n      <td>G</td>\n      <td>112920.0</td>\n      <td>97538.0</td>\n      <td>c.2000</td>\n      <td>21239113</td>\n      <td>A</td>\n      <td>G</td>\n      <td>21392047</td>\n      <td>A</td>\n      <td>G</td>\n      <td>112920</td>\n      <td>2104</td>\n      <td>112920</td>\n      <td>2000</td>\n    </tr>\n    <tr>\n      <th>34</th>\n      <td>rs200995543</td>\n      <td>21239145.0</td>\n      <td>21392079.0</td>\n      <td>C</td>\n      <td>T</td>\n      <td>112952.0</td>\n      <td>97570.0</td>\n      <td>c.2032</td>\n      <td>21239145</td>\n      <td>C</td>\n      <td>T</td>\n      <td>21392079</td>\n      <td>C</td>\n      <td>T</td>\n      <td>112952</td>\n      <td>2136</td>\n      <td>112952</td>\n      <td>2032</td>\n    </tr>\n    <tr>\n      <th>35</th>\n      <td>rs140790673</td>\n      <td>21239158.0</td>\n      <td>21392092.0</td>\n      <td>C</td>\n      <td>T</td>\n      <td>112965.0</td>\n      <td>97583.0</td>\n      <td>c.2045</td>\n      <td>21239158</td>\n      <td>C</td>\n      <td>T</td>\n      <td>21392092</td>\n      <td>C</td>\n      <td>T</td>\n      <td>112965</td>\n      <td>2149</td>\n      <td>112965</td>\n      <td>2045</td>\n    </tr>\n    <tr>\n      <th>36</th>\n      <td>rs74064260</td>\n      <td>21239310.0</td>\n      <td>21392244.0</td>\n      <td>G</td>\n      <td>C</td>\n      <td>113117.0</td>\n      <td>97735.0</td>\n      <td>c.*121</td>\n      <td>21239310</td>\n      <td>G</td>\n      <td>C</td>\n      <td>21392244</td>\n      <td>G</td>\n      <td>C</td>\n      <td>113117</td>\n      <td>2301</td>\n      <td>113117</td>\n      <td>2197</td>\n    </tr>\n    <tr>\n      <th>37</th>\n      <td>rs4149085</td>\n      <td>21239356.0</td>\n      <td>21392290.0</td>\n      <td>T</td>\n      <td>C</td>\n      <td>113163.0</td>\n      <td>97781.0</td>\n      <td>c.*167</td>\n      <td>21239356</td>\n      <td>T</td>\n      <td>C</td>\n      <td>21392290</td>\n      <td>T</td>\n      <td>C</td>\n      <td>113163</td>\n      <td>2347</td>\n      <td>113163</td>\n      <td>2243</td>\n    </tr>\n    <tr>\n      <th>38</th>\n      <td>rs4149087</td>\n      <td>21239628.0</td>\n      <td>21392562.0</td>\n      <td>T</td>\n      <td>G</td>\n      <td>113435.0</td>\n      <td>98053.0</td>\n      <td>c.*439</td>\n      <td>21239628</td>\n      <td>T</td>\n      <td>G</td>\n      <td>21392562</td>\n      <td>T</td>\n      <td>G</td>\n      <td>113435</td>\n      <td>2619</td>\n      <td>113435</td>\n      <td>2515</td>\n    </tr>\n    <tr>\n      <th>39</th>\n      <td>rs4149088</td>\n      <td>21239652.0</td>\n      <td>21392586.0</td>\n      <td>A</td>\n      <td>G</td>\n      <td>113459.0</td>\n      <td>98077.0</td>\n      <td>c.*463</td>\n      <td>21239652</td>\n      <td>A</td>\n      <td>G</td>\n      <td>21392586</td>\n      <td>A</td>\n      <td>G</td>\n      <td>113459</td>\n      <td>2643</td>\n      <td>113459</td>\n      <td>2539</td>\n    </tr>\n  </tbody>\n</table>\n</div>"
     },
     "metadata": {},
     "execution_count": 165
    }
   ],
   "source": [
    "compare_snp_data"
   ]
  },
  {
   "cell_type": "code",
   "execution_count": null,
   "metadata": {},
   "outputs": [],
   "source": []
  }
 ]
}