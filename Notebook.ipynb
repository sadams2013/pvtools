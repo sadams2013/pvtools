{
 "cells": [
  {
   "cell_type": "code",
   "execution_count": 1,
   "metadata": {},
   "outputs": [],
   "source": [
    "import pandas as pd\n",
    "from pvtools import Sequence\n",
    "import json\n",
    "import numpy as np"
   ]
  },
  {
   "cell_type": "code",
   "execution_count": 2,
   "metadata": {},
   "outputs": [],
   "source": [
    "tg1 = Sequence(fasta_file='TestGene1.fasta', json_file='TestGene1.json')"
   ]
  },
  {
   "cell_type": "code",
   "execution_count": 3,
   "metadata": {},
   "outputs": [],
   "source": [
    "tg1.to_tsv('TestGene1.tsv')"
   ]
  },
  {
   "cell_type": "code",
   "execution_count": 4,
   "metadata": {},
   "outputs": [
    {
     "data": {
      "text/html": [
       "<div>\n",
       "<style scoped>\n",
       "    .dataframe tbody tr th:only-of-type {\n",
       "        vertical-align: middle;\n",
       "    }\n",
       "\n",
       "    .dataframe tbody tr th {\n",
       "        vertical-align: top;\n",
       "    }\n",
       "\n",
       "    .dataframe thead th {\n",
       "        text-align: right;\n",
       "    }\n",
       "</style>\n",
       "<table border=\"1\" class=\"dataframe\">\n",
       "  <thead>\n",
       "    <tr style=\"text-align: right;\">\n",
       "      <th></th>\n",
       "      <th>Name</th>\n",
       "      <th>Start</th>\n",
       "      <th>End</th>\n",
       "    </tr>\n",
       "  </thead>\n",
       "  <tbody>\n",
       "    <tr>\n",
       "      <th>0</th>\n",
       "      <td>Upstream</td>\n",
       "      <td>1</td>\n",
       "      <td>100</td>\n",
       "    </tr>\n",
       "    <tr>\n",
       "      <th>1</th>\n",
       "      <td>5' UTR Exon 1</td>\n",
       "      <td>101</td>\n",
       "      <td>200</td>\n",
       "    </tr>\n",
       "    <tr>\n",
       "      <th>2</th>\n",
       "      <td>5' UTR Intron 1</td>\n",
       "      <td>201</td>\n",
       "      <td>300</td>\n",
       "    </tr>\n",
       "    <tr>\n",
       "      <th>3</th>\n",
       "      <td>5' UTR Exon 2</td>\n",
       "      <td>301</td>\n",
       "      <td>350</td>\n",
       "    </tr>\n",
       "    <tr>\n",
       "      <th>4</th>\n",
       "      <td>CDS 1</td>\n",
       "      <td>351</td>\n",
       "      <td>400</td>\n",
       "    </tr>\n",
       "    <tr>\n",
       "      <th>5</th>\n",
       "      <td>Intron 1</td>\n",
       "      <td>401</td>\n",
       "      <td>500</td>\n",
       "    </tr>\n",
       "    <tr>\n",
       "      <th>6</th>\n",
       "      <td>CDS 2</td>\n",
       "      <td>501</td>\n",
       "      <td>600</td>\n",
       "    </tr>\n",
       "    <tr>\n",
       "      <th>7</th>\n",
       "      <td>Intron 2</td>\n",
       "      <td>601</td>\n",
       "      <td>700</td>\n",
       "    </tr>\n",
       "    <tr>\n",
       "      <th>8</th>\n",
       "      <td>CDS 3</td>\n",
       "      <td>701</td>\n",
       "      <td>800</td>\n",
       "    </tr>\n",
       "    <tr>\n",
       "      <th>9</th>\n",
       "      <td>Intron 3</td>\n",
       "      <td>801</td>\n",
       "      <td>900</td>\n",
       "    </tr>\n",
       "    <tr>\n",
       "      <th>10</th>\n",
       "      <td>CDS 4</td>\n",
       "      <td>901</td>\n",
       "      <td>1000</td>\n",
       "    </tr>\n",
       "    <tr>\n",
       "      <th>11</th>\n",
       "      <td>Intron 4</td>\n",
       "      <td>1001</td>\n",
       "      <td>1100</td>\n",
       "    </tr>\n",
       "    <tr>\n",
       "      <th>12</th>\n",
       "      <td>CDS 5</td>\n",
       "      <td>1101</td>\n",
       "      <td>1200</td>\n",
       "    </tr>\n",
       "    <tr>\n",
       "      <th>13</th>\n",
       "      <td>Intron 5</td>\n",
       "      <td>1201</td>\n",
       "      <td>1300</td>\n",
       "    </tr>\n",
       "    <tr>\n",
       "      <th>14</th>\n",
       "      <td>CDS 6</td>\n",
       "      <td>1301</td>\n",
       "      <td>1350</td>\n",
       "    </tr>\n",
       "    <tr>\n",
       "      <th>15</th>\n",
       "      <td>3' UTR Exon 1</td>\n",
       "      <td>1351</td>\n",
       "      <td>1400</td>\n",
       "    </tr>\n",
       "    <tr>\n",
       "      <th>16</th>\n",
       "      <td>3' UTR Intron 1</td>\n",
       "      <td>1401</td>\n",
       "      <td>1500</td>\n",
       "    </tr>\n",
       "    <tr>\n",
       "      <th>17</th>\n",
       "      <td>3' UTR Exon 2</td>\n",
       "      <td>1501</td>\n",
       "      <td>1600</td>\n",
       "    </tr>\n",
       "    <tr>\n",
       "      <th>18</th>\n",
       "      <td>3' UTR Intron 2</td>\n",
       "      <td>1601</td>\n",
       "      <td>1700</td>\n",
       "    </tr>\n",
       "    <tr>\n",
       "      <th>19</th>\n",
       "      <td>3' UTR Exon 3</td>\n",
       "      <td>1701</td>\n",
       "      <td>1800</td>\n",
       "    </tr>\n",
       "    <tr>\n",
       "      <th>20</th>\n",
       "      <td>Downstream</td>\n",
       "      <td>1801</td>\n",
       "      <td>3500</td>\n",
       "    </tr>\n",
       "  </tbody>\n",
       "</table>\n",
       "</div>"
      ],
      "text/plain": [
       "               Name  Start   End\n",
       "0          Upstream      1   100\n",
       "1     5' UTR Exon 1    101   200\n",
       "2   5' UTR Intron 1    201   300\n",
       "3     5' UTR Exon 2    301   350\n",
       "4             CDS 1    351   400\n",
       "5          Intron 1    401   500\n",
       "6             CDS 2    501   600\n",
       "7          Intron 2    601   700\n",
       "8             CDS 3    701   800\n",
       "9          Intron 3    801   900\n",
       "10            CDS 4    901  1000\n",
       "11         Intron 4   1001  1100\n",
       "12            CDS 5   1101  1200\n",
       "13         Intron 5   1201  1300\n",
       "14            CDS 6   1301  1350\n",
       "15    3' UTR Exon 1   1351  1400\n",
       "16  3' UTR Intron 1   1401  1500\n",
       "17    3' UTR Exon 2   1501  1600\n",
       "18  3' UTR Intron 2   1601  1700\n",
       "19    3' UTR Exon 3   1701  1800\n",
       "20       Downstream   1801  3500"
      ]
     },
     "execution_count": 4,
     "metadata": {},
     "output_type": "execute_result"
    }
   ],
   "source": [
    "tg1.get_cds_dataframe()"
   ]
  },
  {
   "cell_type": "code",
   "execution_count": null,
   "metadata": {},
   "outputs": [],
   "source": []
  },
  {
   "cell_type": "code",
   "execution_count": null,
   "metadata": {},
   "outputs": [],
   "source": [
    "ng = Sequence(fasta_file='NG_011745.1.fasta', json_file='NG_011745.1.json')\n",
    "nm = Sequence(fasta_file='NM_006446.5.fasta', json_file='NM_006446.5.json')"
   ]
  },
  {
   "cell_type": "code",
   "execution_count": null,
   "metadata": {},
   "outputs": [],
   "source": [
    "ng.to_tsv('tabel.tsv')"
   ]
  },
  {
   "cell_type": "code",
   "execution_count": null,
   "metadata": {},
   "outputs": [],
   "source": [
    "df = ng.get_cds_dataframe()\n",
    "df"
   ]
  },
  {
   "cell_type": "code",
   "execution_count": null,
   "metadata": {},
   "outputs": [],
   "source": [
    "113603 - 112997"
   ]
  },
  {
   "cell_type": "code",
   "execution_count": null,
   "metadata": {},
   "outputs": [],
   "source": [
    "# for pos, ref in ng_dict.items():\n",
    "#     print(ng.data[pos-1] == ref)"
   ]
  },
  {
   "cell_type": "code",
   "execution_count": null,
   "metadata": {},
   "outputs": [],
   "source": [
    "# with open('NM_006446.5.json', 'w') as f:\n",
    "#     json.dump(data, f, indent=4)"
   ]
  },
  {
   "cell_type": "code",
   "execution_count": null,
   "metadata": {},
   "outputs": [],
   "source": [
    "a = [1,2,3]\n",
    "a + 1"
   ]
  },
  {
   "cell_type": "markdown",
   "metadata": {},
   "source": [
    "# Test 1."
   ]
  },
  {
   "cell_type": "code",
   "execution_count": null,
   "metadata": {},
   "outputs": [],
   "source": [
    "df = pd.read_table('manual.tsv')\n",
    "df = df[df['NG_011745.1 (start=1)'] != '.']\n",
    "df['Ref'] = df['SNP'].str.split('>').str[0]\n",
    "df['NG_011745.1 (start=1)'] = df['NG_011745.1 (start=1)'].astype(int)\n",
    "ng_dict = dict(zip(df['NG_011745.1 (start=1)'], df['Ref']))\n",
    "results = []\n",
    "for pos, allele in ng_dict.items():\n",
    "    results.append(ng.seq[pos-1] == allele)\n",
    "if all(results):\n",
    "    print('All alleles passed')"
   ]
  },
  {
   "cell_type": "markdown",
   "metadata": {},
   "source": [
    "# Test 2."
   ]
  },
  {
   "cell_type": "code",
   "execution_count": null,
   "metadata": {},
   "outputs": [],
   "source": [
    "ng.transcribe() == nm.seq"
   ]
  },
  {
   "cell_type": "markdown",
   "metadata": {},
   "source": [
    "# Test 3."
   ]
  },
  {
   "cell_type": "code",
   "execution_count": null,
   "metadata": {},
   "outputs": [],
   "source": [
    "df = pd.read_table('manual.tsv')\n",
    "\n",
    "b = []\n",
    "\n",
    "for item in df['Impact'].to_list():\n",
    "    if any(x.isdigit() for x in item):\n",
    "        b.append(item)\n",
    "        \n",
    "pos_list = []\n",
    "\n",
    "for item in b:\n",
    "    pos_list.append(int(''.join([x for x in item if x.isdigit()])))\n",
    "\n",
    "ref_aa = []\n",
    "\n",
    "for pos in pos_list:\n",
    "    ref_aa.append(ng.data['Protein'][pos-1])\n",
    "\n",
    "for i in range(len(b)):\n",
    "    item = b[i]\n",
    "    pos = pos_list[i]\n",
    "    aa = item.split(str(pos))[0]\n",
    "    print(aa == ref_aa[i], aa, ref_aa[i], pos)"
   ]
  },
  {
   "cell_type": "code",
   "execution_count": null,
   "metadata": {},
   "outputs": [],
   "source": []
  },
  {
   "cell_type": "code",
   "execution_count": null,
   "metadata": {},
   "outputs": [],
   "source": [
    "4195 - 5001 - 105 + 1"
   ]
  },
  {
   "cell_type": "code",
   "execution_count": null,
   "metadata": {},
   "outputs": [],
   "source": [
    "5001 - 833 + 105 -1"
   ]
  },
  {
   "cell_type": "code",
   "execution_count": null,
   "metadata": {},
   "outputs": [],
   "source": [
    "5001 - 910 + 105 -1"
   ]
  },
  {
   "cell_type": "code",
   "execution_count": null,
   "metadata": {},
   "outputs": [],
   "source": [
    "105, 2180"
   ]
  },
  {
   "cell_type": "code",
   "execution_count": null,
   "metadata": {},
   "outputs": [],
   "source": [
    "ng.liftover(4883)\n"
   ]
  },
  {
   "cell_type": "code",
   "execution_count": null,
   "metadata": {},
   "outputs": [],
   "source": [
    "ng.data['CDSEnds'][0] - ng.data['CDSStarts'][0]"
   ]
  },
  {
   "cell_type": "code",
   "execution_count": null,
   "metadata": {},
   "outputs": [],
   "source": []
  },
  {
   "cell_type": "code",
   "execution_count": null,
   "metadata": {},
   "outputs": [],
   "source": [
    "ng._get_start_to_atg()"
   ]
  },
  {
   "cell_type": "code",
   "execution_count": null,
   "metadata": {},
   "outputs": [],
   "source": [
    "bp_sum"
   ]
  },
  {
   "cell_type": "code",
   "execution_count": null,
   "metadata": {},
   "outputs": [],
   "source": [
    "bp_sum = 0\n",
    "\n",
    "for i in range(b-1):\n",
    "    start = data['FASTA']['NG_011745.1']['mRNAStarts'][i]\n",
    "    end = data['FASTA']['NG_011745.1']['mRNAEnds'][i]\n",
    "    bp_sum = end - start + 1"
   ]
  }
 ],
 "metadata": {
  "kernelspec": {
   "display_name": "Python 3",
   "language": "python",
   "name": "python3"
  },
  "language_info": {
   "codemirror_mode": {
    "name": "ipython",
    "version": 3
   },
   "file_extension": ".py",
   "mimetype": "text/x-python",
   "name": "python",
   "nbconvert_exporter": "python",
   "pygments_lexer": "ipython3",
   "version": "3.6.11"
  }
 },
 "nbformat": 4,
 "nbformat_minor": 4
}
