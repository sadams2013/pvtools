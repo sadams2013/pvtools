{
 "cells": [
  {
   "cell_type": "code",
   "execution_count": 1,
   "metadata": {},
   "outputs": [],
   "source": [
    "import pandas as pd\n",
    "from pvtools import Sequence\n",
    "import json"
   ]
  },
  {
   "cell_type": "code",
   "execution_count": 2,
   "metadata": {},
   "outputs": [],
   "source": [
    "with open('data.json') as f:\n",
    "    data = json.load(f)"
   ]
  },
  {
   "cell_type": "code",
   "execution_count": 3,
   "metadata": {},
   "outputs": [],
   "source": [
    "ng = Sequence(data['FASTA']['NG_011745.1'])\n",
    "nm = Sequence(data['FASTA']['NM_006446.5'])"
   ]
  },
  {
   "cell_type": "code",
   "execution_count": null,
   "metadata": {},
   "outputs": [],
   "source": [
    "# for pos, ref in ng_dict.items():\n",
    "#     print(ng.data[pos-1] == ref)"
   ]
  },
  {
   "cell_type": "code",
   "execution_count": null,
   "metadata": {},
   "outputs": [],
   "source": [
    "# with open('data.json', 'w') as f:\n",
    "#     json.dump(data, f, indent=4)"
   ]
  },
  {
   "cell_type": "markdown",
   "metadata": {},
   "source": [
    "# Test 1."
   ]
  },
  {
   "cell_type": "code",
   "execution_count": null,
   "metadata": {},
   "outputs": [],
   "source": [
    "df = pd.read_table('manual.tsv')\n",
    "df = df[df['NG_011745.1 (start=1)'] != '.']\n",
    "df['Ref'] = df['SNP'].str.split('>').str[0]\n",
    "df['NG_011745.1 (start=1)'] = df['NG_011745.1 (start=1)'].astype(int)\n",
    "ng_dict = dict(zip(df['NG_011745.1 (start=1)'], df['Ref']))\n",
    "results = []\n",
    "for pos, allele in ng_dict.items():\n",
    "    results.append(ng.seq[pos-1] == allele)\n",
    "if all(results):\n",
    "    print('All alleles passed')"
   ]
  },
  {
   "cell_type": "markdown",
   "metadata": {},
   "source": [
    "# Test 2."
   ]
  },
  {
   "cell_type": "code",
   "execution_count": null,
   "metadata": {},
   "outputs": [],
   "source": [
    "ng.transcribe() == nm.seq"
   ]
  },
  {
   "cell_type": "markdown",
   "metadata": {},
   "source": [
    "# Test 3."
   ]
  },
  {
   "cell_type": "code",
   "execution_count": null,
   "metadata": {},
   "outputs": [],
   "source": [
    "df = pd.read_table('manual.tsv')\n",
    "\n",
    "b = []\n",
    "\n",
    "for item in df['Impact'].to_list():\n",
    "    if any(x.isdigit() for x in item):\n",
    "        b.append(item)\n",
    "        \n",
    "pos_list = []\n",
    "\n",
    "for item in b:\n",
    "    pos_list.append(int(''.join([x for x in item if x.isdigit()])))\n",
    "\n",
    "ref_aa = []\n",
    "\n",
    "for pos in pos_list:\n",
    "    ref_aa.append(data['FASTA']['NG_011745.1']['Protein'][pos-1])\n",
    "\n",
    "for i in range(len(b)):\n",
    "    item = b[i]\n",
    "    pos = pos_list[i]\n",
    "    aa = item.split(str(pos))[0]\n",
    "    print(aa == ref_aa[i], aa, ref_aa[i], pos)"
   ]
  },
  {
   "cell_type": "code",
   "execution_count": null,
   "metadata": {},
   "outputs": [],
   "source": []
  },
  {
   "cell_type": "code",
   "execution_count": null,
   "metadata": {},
   "outputs": [],
   "source": [
    "4195 - 5001 - 105 + 1"
   ]
  },
  {
   "cell_type": "code",
   "execution_count": null,
   "metadata": {},
   "outputs": [],
   "source": [
    "5001 - 833 + 105 -1"
   ]
  },
  {
   "cell_type": "code",
   "execution_count": null,
   "metadata": {},
   "outputs": [],
   "source": [
    "5001 - 910 + 105 -1"
   ]
  },
  {
   "cell_type": "code",
   "execution_count": null,
   "metadata": {},
   "outputs": [],
   "source": [
    "105, 2180"
   ]
  },
  {
   "cell_type": "code",
   "execution_count": 7,
   "metadata": {},
   "outputs": [
    {
     "data": {
      "text/plain": [
       "245"
      ]
     },
     "execution_count": 7,
     "metadata": {},
     "output_type": "execute_result"
    }
   ],
   "source": [
    "ng.liftover(48402, nm.data['CDSStarts'][0])\n"
   ]
  },
  {
   "cell_type": "code",
   "execution_count": null,
   "metadata": {},
   "outputs": [],
   "source": [
    "ng.data['CDSEnds'][0] - ng.data['CDSStarts'][0]"
   ]
  },
  {
   "cell_type": "code",
   "execution_count": null,
   "metadata": {},
   "outputs": [],
   "source": []
  }
 ],
 "metadata": {
  "kernelspec": {
   "display_name": "Python 3",
   "language": "python",
   "name": "python3"
  },
  "language_info": {
   "codemirror_mode": {
    "name": "ipython",
    "version": 3
   },
   "file_extension": ".py",
   "mimetype": "text/x-python",
   "name": "python",
   "nbconvert_exporter": "python",
   "pygments_lexer": "ipython3",
   "version": "3.6.11"
  }
 },
 "nbformat": 4,
 "nbformat_minor": 4
}
