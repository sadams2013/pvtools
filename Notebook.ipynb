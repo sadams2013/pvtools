{
 "cells": [
  {
   "cell_type": "code",
   "execution_count": 1,
   "metadata": {},
   "outputs": [],
   "source": [
    "import pandas as pd\n",
    "from pvtools import Sequence, LookupTable, dbSNP\n",
    "import json\n",
    "import numpy as np"
   ]
  },
  {
   "cell_type": "markdown",
   "metadata": {},
   "source": [
    "# Section 1. Build an example lookup table for the test gene"
   ]
  },
  {
   "cell_type": "code",
   "execution_count": 2,
   "metadata": {},
   "outputs": [],
   "source": [
    "ng = Sequence(fasta_file='TestGene/TestGene.fasta', json_file='TestGene/TestGene.json')\n",
    "g7 = Sequence(fasta_file='TestGene/GRCh37.fasta', json_file='TestGene/GRCh37.json')\n",
    "g8 = Sequence(fasta_file='TestGene/GRCh38.fasta', json_file='TestGene/GRCh38.json')"
   ]
  },
  {
   "cell_type": "code",
   "execution_count": 3,
   "metadata": {},
   "outputs": [],
   "source": [
    "lookup = LookupTable(ng, g7, g8)"
   ]
  },
  {
   "cell_type": "code",
   "execution_count": 4,
   "metadata": {},
   "outputs": [
    {
     "data": {
      "text/html": [
       "<div>\n",
       "<style scoped>\n",
       "    .dataframe tbody tr th:only-of-type {\n",
       "        vertical-align: middle;\n",
       "    }\n",
       "\n",
       "    .dataframe tbody tr th {\n",
       "        vertical-align: top;\n",
       "    }\n",
       "\n",
       "    .dataframe thead th {\n",
       "        text-align: right;\n",
       "    }\n",
       "</style>\n",
       "<table border=\"1\" class=\"dataframe\">\n",
       "  <thead>\n",
       "    <tr style=\"text-align: right;\">\n",
       "      <th></th>\n",
       "      <th>Start_Position</th>\n",
       "      <th>ATG_Position</th>\n",
       "      <th>Transcript_Position</th>\n",
       "      <th>GRCh37_Position</th>\n",
       "      <th>GRCh38_Position</th>\n",
       "      <th>Allele</th>\n",
       "      <th>Exon_Annotation</th>\n",
       "      <th>CDS_Annotation</th>\n",
       "    </tr>\n",
       "  </thead>\n",
       "  <tbody>\n",
       "    <tr>\n",
       "      <th>0</th>\n",
       "      <td>1</td>\n",
       "      <td>-350</td>\n",
       "      <td>c.-250</td>\n",
       "      <td>10001</td>\n",
       "      <td>20001</td>\n",
       "      <td>G</td>\n",
       "      <td>Upstream</td>\n",
       "      <td>Upstream</td>\n",
       "    </tr>\n",
       "    <tr>\n",
       "      <th>1</th>\n",
       "      <td>2</td>\n",
       "      <td>-349</td>\n",
       "      <td>c.-249</td>\n",
       "      <td>10002</td>\n",
       "      <td>20002</td>\n",
       "      <td>A</td>\n",
       "      <td>Upstream</td>\n",
       "      <td>Upstream</td>\n",
       "    </tr>\n",
       "    <tr>\n",
       "      <th>2</th>\n",
       "      <td>3</td>\n",
       "      <td>-348</td>\n",
       "      <td>c.-248</td>\n",
       "      <td>10003</td>\n",
       "      <td>20003</td>\n",
       "      <td>T</td>\n",
       "      <td>Upstream</td>\n",
       "      <td>Upstream</td>\n",
       "    </tr>\n",
       "    <tr>\n",
       "      <th>3</th>\n",
       "      <td>4</td>\n",
       "      <td>-347</td>\n",
       "      <td>c.-247</td>\n",
       "      <td>10004</td>\n",
       "      <td>20004</td>\n",
       "      <td>T</td>\n",
       "      <td>Upstream</td>\n",
       "      <td>Upstream</td>\n",
       "    </tr>\n",
       "    <tr>\n",
       "      <th>4</th>\n",
       "      <td>5</td>\n",
       "      <td>-346</td>\n",
       "      <td>c.-246</td>\n",
       "      <td>10005</td>\n",
       "      <td>20005</td>\n",
       "      <td>C</td>\n",
       "      <td>Upstream</td>\n",
       "      <td>Upstream</td>\n",
       "    </tr>\n",
       "    <tr>\n",
       "      <th>...</th>\n",
       "      <td>...</td>\n",
       "      <td>...</td>\n",
       "      <td>...</td>\n",
       "      <td>...</td>\n",
       "      <td>...</td>\n",
       "      <td>...</td>\n",
       "      <td>...</td>\n",
       "      <td>...</td>\n",
       "    </tr>\n",
       "    <tr>\n",
       "      <th>3495</th>\n",
       "      <td>3496</td>\n",
       "      <td>3145</td>\n",
       "      <td>c.*1946</td>\n",
       "      <td>13496</td>\n",
       "      <td>23496</td>\n",
       "      <td>G</td>\n",
       "      <td>Downstream</td>\n",
       "      <td>Downstream</td>\n",
       "    </tr>\n",
       "    <tr>\n",
       "      <th>3496</th>\n",
       "      <td>3497</td>\n",
       "      <td>3146</td>\n",
       "      <td>c.*1947</td>\n",
       "      <td>13497</td>\n",
       "      <td>23497</td>\n",
       "      <td>G</td>\n",
       "      <td>Downstream</td>\n",
       "      <td>Downstream</td>\n",
       "    </tr>\n",
       "    <tr>\n",
       "      <th>3497</th>\n",
       "      <td>3498</td>\n",
       "      <td>3147</td>\n",
       "      <td>c.*1948</td>\n",
       "      <td>13498</td>\n",
       "      <td>23498</td>\n",
       "      <td>C</td>\n",
       "      <td>Downstream</td>\n",
       "      <td>Downstream</td>\n",
       "    </tr>\n",
       "    <tr>\n",
       "      <th>3498</th>\n",
       "      <td>3499</td>\n",
       "      <td>3148</td>\n",
       "      <td>c.*1949</td>\n",
       "      <td>13499</td>\n",
       "      <td>23499</td>\n",
       "      <td>A</td>\n",
       "      <td>Downstream</td>\n",
       "      <td>Downstream</td>\n",
       "    </tr>\n",
       "    <tr>\n",
       "      <th>3499</th>\n",
       "      <td>3500</td>\n",
       "      <td>3149</td>\n",
       "      <td>c.*1950</td>\n",
       "      <td>13500</td>\n",
       "      <td>23500</td>\n",
       "      <td>C</td>\n",
       "      <td>Downstream</td>\n",
       "      <td>Downstream</td>\n",
       "    </tr>\n",
       "  </tbody>\n",
       "</table>\n",
       "<p>3500 rows × 8 columns</p>\n",
       "</div>"
      ],
      "text/plain": [
       "      Start_Position  ATG_Position Transcript_Position  GRCh37_Position  \\\n",
       "0                  1          -350              c.-250            10001   \n",
       "1                  2          -349              c.-249            10002   \n",
       "2                  3          -348              c.-248            10003   \n",
       "3                  4          -347              c.-247            10004   \n",
       "4                  5          -346              c.-246            10005   \n",
       "...              ...           ...                 ...              ...   \n",
       "3495            3496          3145             c.*1946            13496   \n",
       "3496            3497          3146             c.*1947            13497   \n",
       "3497            3498          3147             c.*1948            13498   \n",
       "3498            3499          3148             c.*1949            13499   \n",
       "3499            3500          3149             c.*1950            13500   \n",
       "\n",
       "      GRCh38_Position Allele Exon_Annotation CDS_Annotation  \n",
       "0               20001      G        Upstream       Upstream  \n",
       "1               20002      A        Upstream       Upstream  \n",
       "2               20003      T        Upstream       Upstream  \n",
       "3               20004      T        Upstream       Upstream  \n",
       "4               20005      C        Upstream       Upstream  \n",
       "...               ...    ...             ...            ...  \n",
       "3495            23496      G      Downstream     Downstream  \n",
       "3496            23497      G      Downstream     Downstream  \n",
       "3497            23498      C      Downstream     Downstream  \n",
       "3498            23499      A      Downstream     Downstream  \n",
       "3499            23500      C      Downstream     Downstream  \n",
       "\n",
       "[3500 rows x 8 columns]"
      ]
     },
     "execution_count": 4,
     "metadata": {},
     "output_type": "execute_result"
    }
   ],
   "source": [
    "lookup.df"
   ]
  },
  {
   "cell_type": "code",
   "execution_count": 5,
   "metadata": {},
   "outputs": [],
   "source": [
    "lookup.to_tsv('TestGene/Lookup.tsv')"
   ]
  },
  {
   "cell_type": "markdown",
   "metadata": {},
   "source": [
    "# Section 2. Build a lookup table for SLCO1B1"
   ]
  },
  {
   "cell_type": "code",
   "execution_count": 6,
   "metadata": {},
   "outputs": [],
   "source": [
    "ng = Sequence(fasta_file='SLCO1B1/NG_011745.1.fasta', json_file='SLCO1B1/NG_011745.1.json')\n",
    "g7 = Sequence(fasta_file='SLCO1B1/GRCh37.fasta', json_file='SLCO1B1/GRCh37.json')\n",
    "g8 = Sequence(fasta_file='SLCO1B1/GRCh38.fasta', json_file='SLCO1B1/GRCh38.json')"
   ]
  },
  {
   "cell_type": "code",
   "execution_count": 7,
   "metadata": {},
   "outputs": [],
   "source": [
    "lookup = LookupTable(ng, g7, g8)"
   ]
  },
  {
   "cell_type": "code",
   "execution_count": 8,
   "metadata": {},
   "outputs": [
    {
     "data": {
      "text/html": [
       "<div>\n",
       "<style scoped>\n",
       "    .dataframe tbody tr th:only-of-type {\n",
       "        vertical-align: middle;\n",
       "    }\n",
       "\n",
       "    .dataframe tbody tr th {\n",
       "        vertical-align: top;\n",
       "    }\n",
       "\n",
       "    .dataframe thead th {\n",
       "        text-align: right;\n",
       "    }\n",
       "</style>\n",
       "<table border=\"1\" class=\"dataframe\">\n",
       "  <thead>\n",
       "    <tr style=\"text-align: right;\">\n",
       "      <th></th>\n",
       "      <th>Start_Position</th>\n",
       "      <th>ATG_Position</th>\n",
       "      <th>Transcript_Position</th>\n",
       "      <th>GRCh37_Position</th>\n",
       "      <th>GRCh38_Position</th>\n",
       "      <th>Allele</th>\n",
       "      <th>Exon_Annotation</th>\n",
       "      <th>CDS_Annotation</th>\n",
       "    </tr>\n",
       "  </thead>\n",
       "  <tbody>\n",
       "    <tr>\n",
       "      <th>0</th>\n",
       "      <td>1</td>\n",
       "      <td>-15381</td>\n",
       "      <td>c.-5104</td>\n",
       "      <td>21279128</td>\n",
       "      <td>21126194</td>\n",
       "      <td>G</td>\n",
       "      <td>Upstream</td>\n",
       "      <td>Upstream</td>\n",
       "    </tr>\n",
       "    <tr>\n",
       "      <th>1</th>\n",
       "      <td>2</td>\n",
       "      <td>-15380</td>\n",
       "      <td>c.-5103</td>\n",
       "      <td>21279129</td>\n",
       "      <td>21126195</td>\n",
       "      <td>A</td>\n",
       "      <td>Upstream</td>\n",
       "      <td>Upstream</td>\n",
       "    </tr>\n",
       "    <tr>\n",
       "      <th>2</th>\n",
       "      <td>3</td>\n",
       "      <td>-15379</td>\n",
       "      <td>c.-5102</td>\n",
       "      <td>21279130</td>\n",
       "      <td>21126196</td>\n",
       "      <td>T</td>\n",
       "      <td>Upstream</td>\n",
       "      <td>Upstream</td>\n",
       "    </tr>\n",
       "    <tr>\n",
       "      <th>3</th>\n",
       "      <td>4</td>\n",
       "      <td>-15378</td>\n",
       "      <td>c.-5101</td>\n",
       "      <td>21279131</td>\n",
       "      <td>21126197</td>\n",
       "      <td>T</td>\n",
       "      <td>Upstream</td>\n",
       "      <td>Upstream</td>\n",
       "    </tr>\n",
       "    <tr>\n",
       "      <th>4</th>\n",
       "      <td>5</td>\n",
       "      <td>-15377</td>\n",
       "      <td>c.-5100</td>\n",
       "      <td>21279132</td>\n",
       "      <td>21126198</td>\n",
       "      <td>C</td>\n",
       "      <td>Upstream</td>\n",
       "      <td>Upstream</td>\n",
       "    </tr>\n",
       "    <tr>\n",
       "      <th>...</th>\n",
       "      <td>...</td>\n",
       "      <td>...</td>\n",
       "      <td>...</td>\n",
       "      <td>...</td>\n",
       "      <td>...</td>\n",
       "      <td>...</td>\n",
       "      <td>...</td>\n",
       "      <td>...</td>\n",
       "    </tr>\n",
       "    <tr>\n",
       "      <th>115598</th>\n",
       "      <td>115599</td>\n",
       "      <td>100217</td>\n",
       "      <td>c.*2603</td>\n",
       "      <td>21394726</td>\n",
       "      <td>21241792</td>\n",
       "      <td>A</td>\n",
       "      <td>Downstream</td>\n",
       "      <td>Downstream</td>\n",
       "    </tr>\n",
       "    <tr>\n",
       "      <th>115599</th>\n",
       "      <td>115600</td>\n",
       "      <td>100218</td>\n",
       "      <td>c.*2604</td>\n",
       "      <td>21394727</td>\n",
       "      <td>21241793</td>\n",
       "      <td>A</td>\n",
       "      <td>Downstream</td>\n",
       "      <td>Downstream</td>\n",
       "    </tr>\n",
       "    <tr>\n",
       "      <th>115600</th>\n",
       "      <td>115601</td>\n",
       "      <td>100219</td>\n",
       "      <td>c.*2605</td>\n",
       "      <td>21394728</td>\n",
       "      <td>21241794</td>\n",
       "      <td>A</td>\n",
       "      <td>Downstream</td>\n",
       "      <td>Downstream</td>\n",
       "    </tr>\n",
       "    <tr>\n",
       "      <th>115601</th>\n",
       "      <td>115602</td>\n",
       "      <td>100220</td>\n",
       "      <td>c.*2606</td>\n",
       "      <td>21394729</td>\n",
       "      <td>21241795</td>\n",
       "      <td>C</td>\n",
       "      <td>Downstream</td>\n",
       "      <td>Downstream</td>\n",
       "    </tr>\n",
       "    <tr>\n",
       "      <th>115602</th>\n",
       "      <td>115603</td>\n",
       "      <td>100221</td>\n",
       "      <td>c.*2607</td>\n",
       "      <td>21394730</td>\n",
       "      <td>21241796</td>\n",
       "      <td>C</td>\n",
       "      <td>Downstream</td>\n",
       "      <td>Downstream</td>\n",
       "    </tr>\n",
       "  </tbody>\n",
       "</table>\n",
       "<p>115603 rows × 8 columns</p>\n",
       "</div>"
      ],
      "text/plain": [
       "        Start_Position  ATG_Position Transcript_Position  GRCh37_Position  \\\n",
       "0                    1        -15381             c.-5104         21279128   \n",
       "1                    2        -15380             c.-5103         21279129   \n",
       "2                    3        -15379             c.-5102         21279130   \n",
       "3                    4        -15378             c.-5101         21279131   \n",
       "4                    5        -15377             c.-5100         21279132   \n",
       "...                ...           ...                 ...              ...   \n",
       "115598          115599        100217             c.*2603         21394726   \n",
       "115599          115600        100218             c.*2604         21394727   \n",
       "115600          115601        100219             c.*2605         21394728   \n",
       "115601          115602        100220             c.*2606         21394729   \n",
       "115602          115603        100221             c.*2607         21394730   \n",
       "\n",
       "        GRCh38_Position Allele Exon_Annotation CDS_Annotation  \n",
       "0              21126194      G        Upstream       Upstream  \n",
       "1              21126195      A        Upstream       Upstream  \n",
       "2              21126196      T        Upstream       Upstream  \n",
       "3              21126197      T        Upstream       Upstream  \n",
       "4              21126198      C        Upstream       Upstream  \n",
       "...                 ...    ...             ...            ...  \n",
       "115598         21241792      A      Downstream     Downstream  \n",
       "115599         21241793      A      Downstream     Downstream  \n",
       "115600         21241794      A      Downstream     Downstream  \n",
       "115601         21241795      C      Downstream     Downstream  \n",
       "115602         21241796      C      Downstream     Downstream  \n",
       "\n",
       "[115603 rows x 8 columns]"
      ]
     },
     "execution_count": 8,
     "metadata": {},
     "output_type": "execute_result"
    }
   ],
   "source": [
    "lookup.df"
   ]
  },
  {
   "cell_type": "code",
   "execution_count": 9,
   "metadata": {},
   "outputs": [],
   "source": [
    "lookup.to_tsv('SLCO1B1/Lookup.tsv')"
   ]
  },
  {
   "cell_type": "markdown",
   "metadata": {},
   "source": [
    "# Section 3. Perform sanity checks"
   ]
  },
  {
   "cell_type": "markdown",
   "metadata": {},
   "source": [
    "## Section 3-1. Compare the sequence identity"
   ]
  },
  {
   "cell_type": "code",
   "execution_count": 10,
   "metadata": {},
   "outputs": [
    {
     "data": {
      "text/plain": [
       "True"
      ]
     },
     "execution_count": 10,
     "metadata": {},
     "output_type": "execute_result"
    }
   ],
   "source": [
    "ng.seq == g7.seq == g8.seq"
   ]
  },
  {
   "cell_type": "markdown",
   "metadata": {},
   "source": [
    "## Section 3-2. Confirm the mRNA sequence"
   ]
  },
  {
   "cell_type": "code",
   "execution_count": 11,
   "metadata": {},
   "outputs": [
    {
     "data": {
      "text/plain": [
       "True"
      ]
     },
     "execution_count": 11,
     "metadata": {},
     "output_type": "execute_result"
    }
   ],
   "source": [
    "nm = Sequence(fasta_file='SLCO1B1/NM_006446.5.fasta', json_file='SLCO1B1/NM_006446.5.json')\n",
    "ng.transcribe() == nm.seq"
   ]
  },
  {
   "cell_type": "markdown",
   "metadata": {},
   "source": [
    "## Section 3-3. Confirm the protein sequence"
   ]
  },
  {
   "cell_type": "code",
   "execution_count": 12,
   "metadata": {},
   "outputs": [
    {
     "name": "stdout",
     "output_type": "stream",
     "text": [
      "All amino acids matched: True\n"
     ]
    }
   ],
   "source": [
    "df = pd.read_table('SLCO1B1/SNP_Table.tsv')\n",
    "df = df[df['Issue'] == '.']\n",
    "\n",
    "impact_list = []\n",
    "for item in df['Impact'].to_list():\n",
    "    if any(x.isdigit() for x in item):\n",
    "        impact_list.append(item)\n",
    "\n",
    "pos_list = []\n",
    "for impact in impact_list:\n",
    "    pos_list.append(int(''.join([x for x in impact if x.isdigit()])))\n",
    "\n",
    "aa_list = []\n",
    "for pos in pos_list:\n",
    "    aa_list.append(ng.data['Protein'][pos-1])\n",
    "\n",
    "results = []\n",
    "for i, impact in enumerate(impact_list):\n",
    "    pos = pos_list[i]\n",
    "    ref_aa = aa_list[i]\n",
    "    test_aa = impact.split(str(pos))[0]\n",
    "    results.append(ref_aa == test_aa)\n",
    "\n",
    "print(\"All amino acids matched:\", all(results))"
   ]
  },
  {
   "cell_type": "markdown",
   "metadata": {},
   "source": [
    "## Section 3-4. Confirm the coordinates"
   ]
  },
  {
   "cell_type": "code",
   "execution_count": 13,
   "metadata": {},
   "outputs": [
    {
     "name": "stdout",
     "output_type": "stream",
     "text": [
      "ATG_Position: True\n",
      "Transcript_Position: True\n",
      "GRCh37_Position: True\n",
      "GRCh38_Position: True\n"
     ]
    }
   ],
   "source": [
    "df = pd.read_table('SLCO1B1/SNP_Table.tsv')\n",
    "df = df[df['Issue'] == '.']\n",
    "\n",
    "atg_pos = [lookup.find('Start_Position', 'ATG_Position', x) for x in df['Start_Position'].astype(int)]\n",
    "transcript_pos = [lookup.find('Start_Position', 'Transcript_Position', x) for x in df['Start_Position'].astype(int)]\n",
    "grch37_pos = [lookup.find('Start_Position', 'GRCh37_Position', x) for x in df['Start_Position'].astype(int)]\n",
    "grch38_pos = [lookup.find('Start_Position', 'GRCh38_Position', x) for x in df['Start_Position'].astype(int)]\n",
    "\n",
    "print('ATG_Position:', all(df['ATG_Position'].astype(int) == atg_pos))\n",
    "print('Transcript_Position:', all(df['Transcript_Position'] == transcript_pos))\n",
    "print('GRCh37_Position:', all(df['GRCh37_Position'].astype(int) == grch37_pos))\n",
    "print('GRCh38_Position:', all(df['GRCh38_Position'].astype(int) == grch38_pos))"
   ]
  },
  {
   "cell_type": "markdown",
   "metadata": {},
   "source": [
    "## Section 3-5. Confirm the alleles"
   ]
  },
  {
   "cell_type": "code",
   "execution_count": 14,
   "metadata": {},
   "outputs": [
    {
     "name": "stdout",
     "output_type": "stream",
     "text": [
      "All alleles matched: True\n"
     ]
    }
   ],
   "source": [
    "df = pd.read_table('SLCO1B1/SNP_Table.tsv')\n",
    "df = df[df['Issue'] == '.']\n",
    "test_alleles = df['Reference_Allele'].to_list()\n",
    "ref_alleles = [lookup.find('Start_Position', 'Allele', x) for x in df['Start_Position'].astype(int)]\n",
    "print(\"All alleles matched:\", test_alleles == ref_alleles)"
   ]
  },
  {
   "cell_type": "markdown",
   "metadata": {},
   "source": [
    "## Section 3-6. Confirm the rs IDs"
   ]
  },
  {
   "cell_type": "code",
   "execution_count": 15,
   "metadata": {},
   "outputs": [
    {
     "name": "stdout",
     "output_type": "stream",
     "text": [
      "All rs Ids matched for GRCh37: True\n",
      "All rs Ids matched for GRCh38: True\n"
     ]
    }
   ],
   "source": [
    "df = pd.read_table('SLCO1B1/SNP_Table.tsv')\n",
    "df = df[df['Issue'] == '.']\n",
    "test_ids = df['rs_ID'].to_list()\n",
    "\n",
    "db7 = dbSNP('SLCO1B1/GRCh37_dbSNP.tsv')\n",
    "db8 = dbSNP('SLCO1B1/GRCh38_dbSNP.tsv')\n",
    "\n",
    "ref_ids7 = [db7.get_ref(int(x)-1, int(x)) for x in df['GRCh37_Position']]\n",
    "ref_ids8 = [db8.get_ref(int(x)-1, int(x)) for x in df['GRCh38_Position']]\n",
    "\n",
    "results7 = []\n",
    "results8 = []\n",
    "\n",
    "for i, test_id in enumerate(test_ids):\n",
    "    results7.append(test_id == ref_ids7[i])\n",
    "\n",
    "for i, test_id in enumerate(test_ids):\n",
    "    results8.append(test_id == ref_ids8[i])\n",
    "\n",
    "print(\"All rs Ids matched for GRCh37:\", all(results7))\n",
    "print(\"All rs Ids matched for GRCh38:\", all(results8))"
   ]
  },
  {
   "cell_type": "code",
   "execution_count": null,
   "metadata": {},
   "outputs": [],
   "source": []
  }
 ],
 "metadata": {
  "kernelspec": {
   "display_name": "Python 3",
   "language": "python",
   "name": "python3"
  },
  "language_info": {
   "codemirror_mode": {
    "name": "ipython",
    "version": 3
   },
   "file_extension": ".py",
   "mimetype": "text/x-python",
   "name": "python",
   "nbconvert_exporter": "python",
   "pygments_lexer": "ipython3",
   "version": "3.6.11"
  }
 },
 "nbformat": 4,
 "nbformat_minor": 4
}
